{
  "nbformat": 4,
  "nbformat_minor": 0,
  "metadata": {
    "colab": {
      "provenance": [],
      "gpuType": "T4",
      "include_colab_link": true
    },
    "kernelspec": {
      "name": "python3",
      "display_name": "Python 3"
    },
    "language_info": {
      "name": "python"
    },
    "accelerator": "GPU"
  },
  "cells": [
    {
      "cell_type": "markdown",
      "metadata": {
        "id": "view-in-github",
        "colab_type": "text"
      },
      "source": [
        "<a href=\"https://colab.research.google.com/github/Aakash1312-cmd/Signal-Processing_Blockchain_Integration/blob/main/EPQ__Deep_Learning__Blockchain.ipynb\" target=\"_parent\"><img src=\"https://colab.research.google.com/assets/colab-badge.svg\" alt=\"Open In Colab\"/></a>"
      ]
    },
    {
      "cell_type": "code",
      "execution_count": null,
      "metadata": {
        "id": "KZ4Cl5Me8LdX"
      },
      "outputs": [],
      "source": [
        "from google.colab import drive"
      ]
    },
    {
      "cell_type": "code",
      "source": [
        "drive.mount('/content/drive')"
      ],
      "metadata": {
        "colab": {
          "base_uri": "https://localhost:8080/"
        },
        "id": "fz99l2YUE1mJ",
        "outputId": "4b1f7dfd-e0b4-4c97-d4ab-6aee3694dc7c"
      },
      "execution_count": null,
      "outputs": [
        {
          "output_type": "stream",
          "name": "stdout",
          "text": [
            "Mounted at /content/drive\n"
          ]
        }
      ]
    },
    {
      "cell_type": "code",
      "source": [
        "import tensorflow as tf\n",
        "from tensorflow.keras.preprocessing.image import ImageDataGenerator\n",
        "from web3 import Web3\n",
        "blockchain_url = 'https://mainnet.infura.io/v3/f55155a67b71445ab9d6437ebf51e58f'\n",
        "web3 = Web3(Web3.HTTPProvider(blockchain_url))\n",
        "def log_image_preprocessing_event():\n",
        "    event = \"Image Preprocessing Started\"\n",
        "    details = {\n",
        "        \"description\": \"The image preprocessing step has started.\"\n",
        "    }"
      ],
      "metadata": {
        "id": "MSlJKTMEFpsH"
      },
      "execution_count": null,
      "outputs": []
    },
    {
      "cell_type": "code",
      "source": [
        "import os\n",
        "import shutil\n",
        "from web3 import Web3\n",
        "blockchain_url = 'https://mainnet.infura.io/v3/f55155a67b71445ab9d6437ebf51e58f'\n",
        "web3 = Web3(Web3.HTTPProvider(blockchain_url))"
      ],
      "metadata": {
        "id": "_yQjyzAATY_G"
      },
      "execution_count": null,
      "outputs": []
    },
    {
      "cell_type": "code",
      "source": [
        "from tensorflow.keras.layers import Input, Lambda, Dense, Flatten\n",
        "from tensorflow.keras.models import Model\n",
        "from tensorflow.keras.applications.resnet50 import ResNet50\n",
        "from keras.applications.vgg16 import VGG16\n",
        "from tensorflow.keras.applications.resnet50 import preprocess_input\n",
        "from tensorflow.keras.preprocessing import image\n",
        "from tensorflow.keras.preprocessing.image import ImageDataGenerator, load_img\n",
        "from tensorflow.keras.models import Sequential\n",
        "import numpy as np\n",
        "from glob import glob\n",
        "from tensorflow.keras.models import Sequential\n",
        "from tensorflow.keras.layers import Conv2D, MaxPooling2D, Flatten, Dense\n",
        "from sklearn.metrics import confusion_matrix, classification_report\n",
        "import matplotlib.pyplot as plt\n",
        "from tensorflow.compat.v1 import ConfigProto\n",
        "from tensorflow.compat.v1 import InteractiveSession\n",
        "def log_model_initialization(model_name):\n",
        "    event = \"Model Initialization\"\n",
        "    details = {\n",
        "        \"model_name\": model_name,\n",
        "        \"description\": f\"The model {model_name} has been initialized.\"\n",
        "    }\n",
        "    log_to_blockchain(event, json.dumps(details))\n",
        "def log_image_preprocessing(img_path):\n",
        "    event = \"Image Preprocessing\"\n",
        "    details = {\n",
        "        \"image_path\": img_path,\n",
        "        \"description\": f\"The image {img_path} is being preprocessed.\"\n",
        "    }\n",
        "    log_to_blockchain(event, json.dumps(details))\n",
        "def log_model_evaluation(metric_name, metric_value):\n",
        "    event = \"Model Evaluation\"\n",
        "    details = {\n",
        "        \"metric\": metric_name,\n",
        "        \"value\": metric_value,\n",
        "        \"description\": f\"The model evaluation produced a {metric_name} value of {metric_value}.\"\n",
        "    }\n",
        "    log_to_blockchain(event, json.dumps(details))\n",
        "log_model_initialization(\"ResNet50\")\n",
        "img_path = '/path/to/image'\n",
        "log_image_preprocessing(img_path)\n",
        "cm = confusion_matrix([1, 0], [1, 0])\n",
        "log_model_evaluation(\"Confusion Matrix\", cm.tolist())"
      ],
      "metadata": {
        "id": "264tO7bxFp0p"
      },
      "execution_count": null,
      "outputs": []
    },
    {
      "cell_type": "code",
      "source": [
        "from tensorflow.compat.v1 import ConfigProto, InteractiveSession\n",
        "def log_gpu_configuration(memory_fraction, allow_growth):\n",
        "    event = \"GPU Configuration\"\n",
        "    details = {\n",
        "        \"per_process_gpu_memory_fraction\": memory_fraction,\n",
        "        \"allow_growth\": allow_growth,\n",
        "        \"description\": f\"GPU configuration set with memory fraction {memory_fraction} and allow_growth={allow_growth}.\"\n",
        "    }\n",
        "    log_to_blockchain(event, json.dumps(details))\n",
        "config = ConfigProto()\n",
        "config.gpu_options.per_process_gpu_memory_fraction = 0.5\n",
        "config.gpu_options.allow_growth = True\n",
        "session = InteractiveSession(config=config)\n",
        "log_gpu_configuration(0.5, True)\n",
        "print(\"GPU configuration has been set and logged to the blockchain.\")"
      ],
      "metadata": {
        "id": "pJWGHQnnGQj2"
      },
      "execution_count": null,
      "outputs": []
    },
    {
      "cell_type": "code",
      "source": [
        "import tensorflow as tf\n",
        "from tensorflow.keras.preprocessing.image import ImageDataGenerator\n",
        "def log_image_preprocessing_event(event_type, data_details):\n",
        "    event = \"Image Preprocessing\"\n",
        "    details = {\n",
        "        \"event_type\": event_type,\n",
        "        \"data_details\": data_details\n",
        "    }\n",
        "    log_to_blockchain(event, json.dumps(details))\n",
        "train_datagen = ImageDataGenerator(\n",
        "    rescale=1./255,\n",
        "    shear_range=0.2,\n",
        "    zoom_range=0.2,\n",
        "    horizontal_flip=True\n",
        ")\n",
        "log_image_preprocessing_event(\"Data Augmentation\", {\"description\": \"Training data augmentation started.\"})\n",
        "test_datagen = ImageDataGenerator(rescale=1./255)\n",
        "log_image_preprocessing_event(\"Data Preprocessing\", {\"description\": \"Test data preprocessing started.\"})"
      ],
      "metadata": {
        "id": "xFnvkdUQGTLK"
      },
      "execution_count": null,
      "outputs": []
    },
    {
      "cell_type": "code",
      "source": [
        "from tensorflow.keras.models import Sequential\n",
        "from tensorflow.keras.layers import Conv2D, MaxPooling2D, Flatten, Dense, Dropout, Conv1D, MaxPooling1D, BatchNormalization\n",
        "from tensorflow.keras.optimizers import SGD\n",
        "from tensorflow.keras.datasets import mnist\n",
        "from tensorflow.keras.utils import to_categorical\n",
        "from sklearn.model_selection import train_test_split\n",
        "from sklearn.svm import SVC\n",
        "import matplotlib.pyplot as plt\n",
        "def log_model_event(event_type, details):\n",
        "    event = \"Model Event\"\n",
        "    data_details = {\n",
        "        \"event_type\": event_type,\n",
        "        \"details\": details\n",
        "    }\n",
        "    log_to_blockchain(event, json.dumps(data_details))\n",
        "model = Sequential()\n",
        "model.add(Conv2D(32, (3, 3), activation='relu', input_shape=(28, 28, 1)))\n",
        "model.add(MaxPooling2D((2, 2)))\n",
        "model.add(Conv2D(64, (3, 3), activation='relu'))\n",
        "model.add(MaxPooling2D((2, 2)))\n",
        "model.add(Flatten())\n",
        "model.add(Dense(128, activation='relu'))\n",
        "model.add(Dropout(0.5))\n",
        "model.add(Dense(10, activation='softmax'))\n",
        "log_model_event(\"Model Created\", {\"layers\": len(model.layers), \"architecture\": \"Sequential CNN\"})\n",
        "model.compile(optimizer=SGD(learning_rate=0.01), loss='categorical_crossentropy', metrics=['accuracy'])\n",
        "log_model_event(\"Model Compiled\", {\"optimizer\": \"SGD\", \"loss\": \"categorical_crossentropy\", \"metrics\": \"accuracy\"})\n",
        "(x_train, y_train), (x_test, y_test) = mnist.load_data()\n",
        "x_train = x_train.reshape(x_train.shape[0], 28, 28, 1).astype('float32') / 255\n",
        "x_test = x_test.reshape(x_test.shape[0], 28, 28, 1).astype('float32') / 255\n",
        "y_train = to_categorical(y_train, 10)\n",
        "y_test = to_categorical(y_test, 10)\n",
        "log_model_event(\"Data Preprocessing\", {\"dataset\": \"MNIST\", \"train_size\": len(x_train), \"test_size\": len(x_test)})\n",
        "x_train, x_val, y_train, y_val = train_test_split(x_train, y_train, test_size=0.2, random_state=42)\n",
        "log_model_event(\"Data Split\", {\"train_size\": len(x_train), \"validation_size\": len(x_val)})\n",
        "history = model.fit(x_train, y_train, epochs=10, validation_data=(x_val, y_val))\n",
        "log_model_event(\"Training Completed\", {\"epochs\": 10, \"final_accuracy\": history.history['accuracy'][-1]})\n",
        "plt.plot(history.history['accuracy'], label='accuracy')\n",
        "plt.plot(history.history['val_accuracy'], label='val_accuracy')\n",
        "plt.xlabel('Epoch')\n",
        "plt.ylabel('Accuracy')\n",
        "plt.legend(loc='lower right')\n",
        "plt.show()"
      ],
      "metadata": {
        "id": "NnDCO5_YGTNZ"
      },
      "execution_count": null,
      "outputs": []
    },
    {
      "cell_type": "code",
      "source": [
        "tensorflow_version = tf.__version__\n",
        "def log_tensorflow_version(version):\n",
        "    event = \"TensorFlow Version\"\n",
        "    details = {\n",
        "        \"tensorflow_version\": version,\n",
        "        \"description\": f\"The current TensorFlow version is {version}.\"\n",
        "    }\n",
        "    log_to_blockchain(event, json.dumps(details))\n",
        "log_tensorflow_version(tensorflow_version)\n",
        "print(f\"TensorFlow version: {tensorflow_version}\")"
      ],
      "metadata": {
        "colab": {
          "base_uri": "https://localhost:8080/",
          "height": 35
        },
        "id": "TQoJw6yeGTPH",
        "outputId": "53df3b34-3acb-49bf-c83f-dac069a95eec"
      },
      "execution_count": null,
      "outputs": [
        {
          "output_type": "execute_result",
          "data": {
            "text/plain": [
              "'2.15.0'"
            ],
            "application/vnd.google.colaboratory.intrinsic+json": {
              "type": "string"
            }
          },
          "metadata": {},
          "execution_count": 9
        }
      ]
    },
    {
      "cell_type": "code",
      "source": [
        "train_path = '/content/drive/MyDrive/train'\n",
        "valid_path = '/content/drive/MyDrive/val'\n",
        "def log_dataset_paths(train_path, valid_path):\n",
        "    event = \"Dataset Paths\"\n",
        "    details = {\n",
        "        \"train_path\": train_path,\n",
        "        \"validation_path\": valid_path,\n",
        "        \"description\": \"Paths for the training and validation datasets have been set.\"\n",
        "    }\n",
        "    log_to_blockchain(event, json.dumps(details))\n",
        "log_dataset_paths(train_path, valid_path)\n",
        "print(f\"Training path: {train_path}\")\n",
        "print(f\"Validation path: {valid_path}\")"
      ],
      "metadata": {
        "id": "0u2Gex_LGTTw"
      },
      "execution_count": null,
      "outputs": []
    },
    {
      "cell_type": "code",
      "source": [
        "from glob import glob\n",
        "folders = glob('/content/drive/MyDrive/*')\n",
        "def log_folder_paths(paths):\n",
        "    event = \"File Path Retrieval\"\n",
        "    details = {\n",
        "        \"paths\": paths,\n",
        "        \"description\": \"Folders have been retrieved using the glob function.\"\n",
        "    }\n",
        "    log_to_blockchain(event, json.dumps(details))\n",
        "log_folder_paths(folders)\n",
        "print(f\"Folders: {folders}\")"
      ],
      "metadata": {
        "id": "savE3NbTGhSH"
      },
      "execution_count": null,
      "outputs": []
    },
    {
      "cell_type": "code",
      "source": [
        "folders = glob('/content/drive/MyDrive/*')\n",
        "print(f\"Folders: {folders}\")"
      ],
      "metadata": {
        "id": "pA2cncUcGhTM"
      },
      "execution_count": null,
      "outputs": []
    },
    {
      "cell_type": "code",
      "source": [
        "from tensorflow.keras.preprocessing.image import ImageDataGenerator\n",
        "def log_datagen_initialization(datagen_type, config):\n",
        "    event = \"Data Generator Initialization\"\n",
        "    details = {\n",
        "        \"datagen_type\": datagen_type,\n",
        "        \"config\": config,\n",
        "        \"description\": f\"{datagen_type} initialized with the following configuration.\"\n",
        "    }\n",
        "    log_to_blockchain(event, json.dumps(details))\n",
        "train_datagen = ImageDataGenerator(rescale=1./255,\n",
        "                                   shear_range=0.2,\n",
        "                                   zoom_range=0.2,\n",
        "                                   horizontal_flip=True)\n",
        "log_datagen_initialization(\"Train Data Generator\", {\n",
        "    \"rescale\": 1./255,\n",
        "    \"shear_range\": 0.2,\n",
        "    \"zoom_range\": 0.2,\n",
        "    \"horizontal_flip\": True\n",
        "})\n",
        "test_datagen = ImageDataGenerator(rescale=1./255)\n",
        "log_datagen_initialization(\"Test Data Generator\", {\n",
        "    \"rescale\": 1./255\n",
        "})"
      ],
      "metadata": {
        "id": "HFYP8Jd5GhU3"
      },
      "execution_count": null,
      "outputs": []
    },
    {
      "cell_type": "code",
      "source": [
        "def log_hyperparameters(img_width, img_height, batch_size, epochs, num_classes):\n",
        "    event = \"Hyperparameters Setup\"\n",
        "    details = {\n",
        "        \"image_width\": img_width,\n",
        "        \"image_height\": img_height,\n",
        "        \"batch_size\": batch_size,\n",
        "        \"epochs\": epochs,\n",
        "        \"num_classes\": num_classes,\n",
        "        \"description\": f\"Hyperparameters setup with image size {img_width}x{img_height}, batch size {batch_size}, epochs {epochs}, and {num_classes} classes.\"\n",
        "    }\n",
        "    log_to_blockchain(event, json.dumps(details))\n",
        "img_width, img_height = 150, 150\n",
        "batch_size = 32\n",
        "epochs = 10\n",
        "num_classes = 9\n",
        "log_hyperparameters(img_width, img_height, batch_size, epochs, num_classes)\n",
        "print(f\"Image size: {img_width}x{img_height}\")\n",
        "print(f\"Batch size: {batch_size}\")\n",
        "print(f\"Epochs: {epochs}\")\n",
        "print(f\"Number of classes: {num_classes}\")"
      ],
      "metadata": {
        "id": "vBfyA7dkGhWq"
      },
      "execution_count": null,
      "outputs": []
    },
    {
      "cell_type": "code",
      "source": [
        "def log_dataset_loading(train_path, target_size, batch_size, class_mode):\n",
        "    event = \"Dataset Loading\"\n",
        "    details = {\n",
        "        \"train_path\": train_path,\n",
        "        \"target_size\": target_size,\n",
        "        \"batch_size\": batch_size,\n",
        "        \"class_mode\": class_mode,\n",
        "        \"description\": f\"Training dataset loaded from {train_path} with target size {target_size}, batch size {batch_size}, and class mode {class_mode}.\"\n",
        "    }\n",
        "    log_to_blockchain(event, json.dumps(details))\n",
        "training_set = train_datagen.flow_from_directory(train_path,\n",
        "                                                 target_size=(img_width, img_height),\n",
        "                                                 batch_size=32,\n",
        "                                                 class_mode='categorical')\n",
        "log_dataset_loading(train_path, (img_width, img_height), 32, 'categorical')\n",
        "print(f\"Training set loaded from {train_path} with target size {img_width}x{img_height}, batch size 32, and class mode 'categorical'.\")"
      ],
      "metadata": {
        "colab": {
          "base_uri": "https://localhost:8080/"
        },
        "id": "DlkA5AXlG0ny",
        "outputId": "bc6a5590-3338-4409-d33a-82cb2e0b5dd8"
      },
      "execution_count": null,
      "outputs": [
        {
          "output_type": "stream",
          "name": "stdout",
          "text": [
            "Found 1396 images belonging to 9 classes.\n"
          ]
        }
      ]
    },
    {
      "cell_type": "code",
      "source": [
        "def log_test_dataset_loading(test_path, target_size, batch_size, class_mode):\n",
        "    event = \"Test Dataset Loading\"\n",
        "    details = {\n",
        "        \"test_path\": test_path,\n",
        "        \"target_size\": target_size,\n",
        "        \"batch_size\": batch_size,\n",
        "        \"class_mode\": class_mode,\n",
        "        \"description\": f\"Test dataset loaded from {test_path} with target size {target_size}, batch size {batch_size}, and class mode {class_mode}.\"\n",
        "    }\n",
        "    log_to_blockchain(event, json.dumps(details))\n",
        "test_set = test_datagen.flow_from_directory('/content/drive/MyDrive/val',\n",
        "                                            target_size=(img_width, img_height),\n",
        "                                            batch_size=32,\n",
        "                                            class_mode='categorical')\n",
        "log_test_dataset_loading('/content/drive/MyDrive/val', (img_width, img_height), 32, 'categorical')\n",
        "print(f\"Test set loaded from /content/drive/MyDrive/val with target size {img_width}x{img_height}, batch size 32, and class mode 'categorical'.\")"
      ],
      "metadata": {
        "colab": {
          "base_uri": "https://localhost:8080/"
        },
        "id": "6segrn3gHTR0",
        "outputId": "86615713-1451-4719-ec35-f6b75fb07f91"
      },
      "execution_count": null,
      "outputs": [
        {
          "output_type": "stream",
          "name": "stdout",
          "text": [
            "Found 359 images belonging to 9 classes.\n"
          ]
        }
      ]
    },
    {
      "cell_type": "code",
      "source": [
        "def log_hyperparameters(img_width, img_height, batch_size, epochs, num_classes):\n",
        "    event = \"Hyperparameters Setup\"\n",
        "    details = {\n",
        "        \"image_width\": img_width,\n",
        "        \"image_height\": img_height,\n",
        "        \"batch_size\": batch_size,\n",
        "        \"epochs\": epochs,\n",
        "        \"num_classes\": num_classes,\n",
        "        \"description\": f\"Hyperparameters setup with image size {img_width}x{img_height}, batch size {batch_size}, epochs {epochs}, and {num_classes} classes.\"\n",
        "    }\n",
        "    log_to_blockchain(event, json.dumps(details))\n",
        "img_width, img_height = 150, 150\n",
        "batch_size = 32\n",
        "epochs = 10\n",
        "num_classes = 9\n",
        "log_hyperparameters(img_width, img_height, batch_size, epochs, num_classes)\n",
        "print(f\"Image size: {img_width}x{img_height}\")\n",
        "print(f\"Batch size: {batch_size}\")\n",
        "print(f\"Epochs: {epochs}\")\n",
        "print(f\"Number of classes: {num_classes}\")"
      ],
      "metadata": {
        "id": "0QyGK3CQHf8c"
      },
      "execution_count": null,
      "outputs": []
    },
    {
      "cell_type": "code",
      "source": [
        "def log_model_creation(layer_type, layer_config):\n",
        "    event = \"Model Layer Addition\"\n",
        "    details = {\n",
        "        \"layer_type\": layer_type,\n",
        "        \"layer_config\": layer_config,\n",
        "        \"description\": f\"Added {layer_type} layer with configuration {layer_config}.\"\n",
        "    }\n",
        "    log_to_blockchain(event, json.dumps(details))\n",
        "model = Sequential()\n",
        "model.add(Conv2D(32, (3, 3), activation='relu', input_shape=(img_width, img_height, 3)))\n",
        "log_model_creation(\"Conv2D\", {\"filters\": 32, \"kernel_size\": (3, 3), \"activation\": \"relu\", \"input_shape\": (img_width, img_height, 3)})\n",
        "model.add(MaxPooling2D((2, 2)))\n",
        "log_model_creation(\"MaxPooling2D\", {\"pool_size\": (2, 2)})\n",
        "model.add(Conv2D(64, (3, 3), activation='relu'))\n",
        "log_model_creation(\"Conv2D\", {\"filters\": 64, \"kernel_size\": (3, 3), \"activation\": \"relu\"})\n",
        "model.add(MaxPooling2D((2, 2)))\n",
        "log_model_creation(\"MaxPooling2D\", {\"pool_size\": (2, 2)})\n",
        "model.add(Conv2D(128, (3, 3), activation='relu'))\n",
        "log_model_creation(\"Conv2D\", {\"filters\": 128, \"kernel_size\": (3, 3), \"activation\": \"relu\"})\n",
        "model.add(MaxPooling2D((2, 2)))\n",
        "log_model_creation(\"MaxPooling2D\", {\"pool_size\": (2, 2)})\n",
        "model.add(Conv2D(128, (3, 3), activation='relu'))\n",
        "log_model_creation(\"Conv2D\", {\"filters\": 128, \"kernel_size\": (3, 3), \"activation\": \"relu\"})\n",
        "model.add(MaxPooling2D((2, 2)))\n",
        "log_model_creation(\"MaxPooling2D\", {\"pool_size\": (2, 2)})\n",
        "model.add(Flatten())\n",
        "log_model_creation(\"Flatten\", {})\n",
        "model.add(Dense(512, activation='relu'))\n",
        "log_model_creation(\"Dense\", {\"units\": 512, \"activation\": \"relu\"})\n",
        "model.add(Dense(num_classes, activation='softmax'))\n",
        "log_model_creation(\"Dense\", {\"units\": num_classes, \"activation\": \"softmax\"})"
      ],
      "metadata": {
        "id": "-yzEOec6HTXq"
      },
      "execution_count": null,
      "outputs": []
    },
    {
      "cell_type": "code",
      "source": [
        "def log_model_compilation(loss_function, optimizer, metrics):\n",
        "    event = \"Model Compilation\"\n",
        "    details = {\n",
        "        \"loss_function\": loss_function,\n",
        "        \"optimizer\": optimizer,\n",
        "        \"metrics\": metrics,\n",
        "        \"description\": f\"Model compiled with {loss_function} loss function, {optimizer} optimizer, and metrics {metrics}.\"\n",
        "    }\n",
        "    log_to_blockchain(event, json.dumps(details))\n",
        "model.compile(loss='categorical_crossentropy',\n",
        "              optimizer='adam',\n",
        "              metrics=['accuracy'])\n",
        "log_model_compilation('categorical_crossentropy', 'adam', ['accuracy'])\n",
        "print(\"Model compiled successfully with categorical_crossentropy, adam, and accuracy metrics.\")"
      ],
      "metadata": {
        "id": "L7QvctGqHlHH"
      },
      "execution_count": null,
      "outputs": []
    },
    {
      "cell_type": "code",
      "source": [
        "def log_training_start(train_set_size, validation_set_size, epochs):\n",
        "    event = \"Training Start\"\n",
        "    details = {\n",
        "        \"train_set_size\": train_set_size,\n",
        "        \"validation_set_size\": validation_set_size,\n",
        "        \"epochs\": epochs,\n",
        "        \"description\": f\"Training started with {train_set_size} training samples, {validation_set_size} validation samples, and {epochs} epochs.\"\n",
        "    }\n",
        "    log_to_blockchain(event, json.dumps(details))\n",
        "def log_epoch_performance(epoch, accuracy, val_accuracy):\n",
        "    event = f\"Epoch {epoch} Performance\"\n",
        "    details = {\n",
        "        \"epoch\": epoch,\n",
        "        \"accuracy\": accuracy,\n",
        "        \"val_accuracy\": val_accuracy,\n",
        "        \"description\": f\"Epoch {epoch} completed with accuracy: {accuracy}, validation accuracy: {val_accuracy}.\"\n",
        "    }\n",
        "    log_to_blockchain(event, json.dumps(details))\n",
        "log_training_start(train_set_size=len(training_set), validation_set_size=len(test_set), epochs=epochs)\n",
        "class BlockchainCallback(tf.keras.callbacks.Callback):\n",
        "    def on_epoch_end(self, epoch, logs=None):\n",
        "        accuracy = logs.get('accuracy')\n",
        "        val_accuracy = logs.get('val_accuracy')\n",
        "        log_epoch_performance(epoch + 1, accuracy, val_accuracy)\n",
        "r = model.fit(x=training_set, validation_data=test_set, epochs=epochs, callbacks=[BlockchainCallback()])\n",
        "print(f\"Training started with {len(training_set)} training samples and {len(test_set)} validation samples.\")"
      ],
      "metadata": {
        "colab": {
          "base_uri": "https://localhost:8080/"
        },
        "id": "TuvRePZRVsvK",
        "outputId": "3d0c0dc4-859f-4ec6-f6cb-7d1695eaacc0"
      },
      "execution_count": null,
      "outputs": [
        {
          "output_type": "stream",
          "name": "stdout",
          "text": [
            "Epoch 1/10\n",
            "44/44 [==============================] - 543s 12s/step - loss: 1.6070 - accuracy: 0.3804 - val_loss: 1.0218 - val_accuracy: 0.6240\n",
            "Epoch 2/10\n",
            "44/44 [==============================] - 35s 800ms/step - loss: 1.0542 - accuracy: 0.5444 - val_loss: 0.8378 - val_accuracy: 0.6657\n",
            "Epoch 3/10\n",
            "44/44 [==============================] - 34s 780ms/step - loss: 0.9032 - accuracy: 0.6211 - val_loss: 0.8289 - val_accuracy: 0.6435\n",
            "Epoch 4/10\n",
            "44/44 [==============================] - 34s 770ms/step - loss: 0.7283 - accuracy: 0.7264 - val_loss: 0.4232 - val_accuracy: 0.8412\n",
            "Epoch 5/10\n",
            "44/44 [==============================] - 34s 768ms/step - loss: 0.5249 - accuracy: 0.8130 - val_loss: 0.3809 - val_accuracy: 0.8496\n",
            "Epoch 6/10\n",
            "44/44 [==============================] - 35s 800ms/step - loss: 0.3798 - accuracy: 0.8639 - val_loss: 0.5808 - val_accuracy: 0.8106\n",
            "Epoch 7/10\n",
            "44/44 [==============================] - 35s 788ms/step - loss: 0.3688 - accuracy: 0.8689 - val_loss: 0.2865 - val_accuracy: 0.9192\n",
            "Epoch 8/10\n",
            "44/44 [==============================] - 34s 768ms/step - loss: 0.2838 - accuracy: 0.8990 - val_loss: 0.2254 - val_accuracy: 0.9554\n",
            "Epoch 9/10\n",
            "44/44 [==============================] - 39s 901ms/step - loss: 0.2211 - accuracy: 0.9384 - val_loss: 0.1393 - val_accuracy: 0.9499\n",
            "Epoch 10/10\n",
            "44/44 [==============================] - 40s 908ms/step - loss: 0.1985 - accuracy: 0.9470 - val_loss: 0.1556 - val_accuracy: 0.9387\n"
          ]
        }
      ]
    },
    {
      "cell_type": "code",
      "source": [
        "def log_model_history(event, details):\n",
        "    log_to_blockchain(event, json.dumps(details))\n",
        "history = r.history\n",
        "accuracy_values = history['accuracy']\n",
        "mean_accuracy = np.mean(accuracy_values)\n",
        "log_model_history(\"Model History\", {\n",
        "    \"accuracy_values\": accuracy_values.tolist(),\n",
        "    \"mean_accuracy\": mean_accuracy,\n",
        "    \"description\": \"Model accuracy values and mean accuracy logged.\"\n",
        "})\n",
        "print(\"Mean Accuracy Of the Main Model:\", mean_accuracy)"
      ],
      "metadata": {
        "colab": {
          "base_uri": "https://localhost:8080/"
        },
        "id": "FLEUVyurr_XX",
        "outputId": "823c311c-20d8-410c-a32f-e9ec3375604d"
      },
      "execution_count": null,
      "outputs": [
        {
          "output_type": "stream",
          "name": "stdout",
          "text": [
            "Mean Accuracy Of the Main Model: 0.7602435559034347\n"
          ]
        }
      ]
    },
    {
      "cell_type": "code",
      "source": [
        "def log_plot_details(event, details):\n",
        "    log_to_blockchain(event, json.dumps(details))\n",
        "log_plot_details(\"Plot Training History\", {\n",
        "    \"accuracy_values\": r.history['accuracy'],\n",
        "    \"val_accuracy_values\": r.history['val_accuracy'],\n",
        "    \"description\": \"Accuracy and validation accuracy values logged for plotting.\"\n",
        "})\n",
        "plt.plot(r.history['accuracy'], label='accuracy')\n",
        "plt.plot(r.history['val_accuracy'], label='val_accuracy')\n",
        "plt.xlabel('Epoch')\n",
        "plt.ylabel('Accuracy')\n",
        "plt.ylim([0, 1])\n",
        "plt.legend(loc='lower right')\n",
        "plt.show()\n",
        "log_plot_details(\"Plot Display\", {\n",
        "    \"description\": \"Training and validation accuracy plot displayed.\"\n",
        "})"
      ],
      "metadata": {
        "colab": {
          "base_uri": "https://localhost:8080/",
          "height": 455
        },
        "id": "iBO5ykNhHlRG",
        "outputId": "60cdd377-3c57-4afd-9a61-5691acabdaba"
      },
      "execution_count": null,
      "outputs": [
        {
          "output_type": "display_data",
          "data": {
            "text/plain": [
              "<Figure size 640x480 with 1 Axes>"
            ],
            "image/png": "[encoded data removed]"
          },
          "metadata": {}
        }
      ]
    },
    {
      "cell_type": "code",
      "source": [
        "def log_loss_plot_details(event, details):\n",
        "    log_to_blockchain(event, json.dumps(details))\n",
        "log_loss_plot_details(\"Plot Loss History\", {\n",
        "    \"loss_values\": r.history['loss'],\n",
        "    \"val_loss_values\": r.history['val_loss'],\n",
        "    \"description\": \"Loss and validation loss values logged for plotting.\"\n",
        "})\n",
        "plt.plot(r.history['loss'], label='loss')\n",
        "plt.plot(r.history['val_loss'], label='val_loss')\n",
        "plt.xlabel('Epoch')\n",
        "plt.ylabel('Loss')\n",
        "plt.ylim([0, 1])\n",
        "plt.legend(loc='lower right')\n",
        "plt.show()\n",
        "log_loss_plot_details(\"Loss Plot Display\", {\n",
        "    \"description\": \"Loss and validation loss plot displayed.\"\n",
        "})"
      ],
      "metadata": {
        "colab": {
          "base_uri": "https://localhost:8080/",
          "height": 455
        },
        "id": "CtNWg90ZHlTb",
        "outputId": "34976d3a-a633-4a49-8895-4d2eb9b1eda1"
      },
      "execution_count": null,
      "outputs": [
        {
          "output_type": "display_data",
          "data": {
            "text/plain": [
              "<Figure size 640x480 with 1 Axes>"
            ],
            "image/png": "[encoded data removed]"
          },
          "metadata": {}
        }
      ]
    },
    {
      "cell_type": "code",
      "source": [
        "def log_test_dataset_loading(test_path, target_size, batch_size, shuffle, class_mode):\n",
        "    event = \"Test Dataset Loading\"\n",
        "    details = {\n",
        "        \"test_path\": test_path,\n",
        "        \"target_size\": target_size,\n",
        "        \"batch_size\": batch_size,\n",
        "        \"shuffle\": shuffle,\n",
        "        \"class_mode\": class_mode,\n",
        "        \"description\": f\"Test dataset loaded from {test_path} with target size {target_size}, batch size {batch_size}, shuffle={shuffle}, and class mode {class_mode}.\"\n",
        "    }\n",
        "    log_to_blockchain(event, json.dumps(details))\n",
        "test_set = test_datagen.flow_from_directory('/content/drive/MyDrive/val',\n",
        "                                            target_size=(img_width, img_height),\n",
        "                                            batch_size=32,\n",
        "                                            shuffle=False,\n",
        "                                            class_mode='categorical')\n",
        "log_test_dataset_loading('/content/drive/MyDrive/val', (img_width, img_height), 32, False, 'categorical')\n",
        "print(f\"Test set loaded from /content/drive/MyDrive/val with target size {img_width}x{img_height}, batch size 32, shuffle=False, and class mode 'categorical'.\")"
      ],
      "metadata": {
        "colab": {
          "base_uri": "https://localhost:8080/"
        },
        "id": "Lx8_yE5rRfXt",
        "outputId": "4eaf637f-2970-47bb-f527-4db2ef1591d6"
      },
      "execution_count": null,
      "outputs": [
        {
          "output_type": "stream",
          "name": "stdout",
          "text": [
            "Found 359 images belonging to 9 classes.\n"
          ]
        }
      ]
    },
    {
      "cell_type": "code",
      "source": [
        "def log_predictions(predictions, y_pred, y_true):\n",
        "    event = \"Model Predictions\"\n",
        "    details = {\n",
        "        \"predictions\": predictions.tolist(),\n",
        "        \"y_pred\": y_pred.tolist(),\n",
        "        \"y_true\": y_true.tolist(),\n",
        "        \"description\": \"Model predictions and ground truth values logged.\"\n",
        "    }\n",
        "    log_to_blockchain(event, json.dumps(details))\n",
        "predictions = model.predict(test_set)\n",
        "y_pred = np.argmax(predictions, axis=1)\n",
        "y_true = test_set.classes\n",
        "log_predictions(predictions, y_pred, y_true)\n",
        "print(\"Predictions and true labels have been logged to the blockchain.\")"
      ],
      "metadata": {
        "colab": {
          "base_uri": "https://localhost:8080/"
        },
        "id": "doj1BqMbPX3D",
        "outputId": "a2d074d5-ea8f-41d7-b5e8-e821d1068e33"
      },
      "execution_count": null,
      "outputs": [
        {
          "output_type": "stream",
          "name": "stdout",
          "text": [
            "12/12 [==============================] - 5s 444ms/step\n"
          ]
        }
      ]
    },
    {
      "cell_type": "code",
      "source": [
        "def log_confusion_matrix(conf_matrix):\n",
        "    event = \"Confusion Matrix\"\n",
        "    details = {\n",
        "        \"confusion_matrix\": conf_matrix.tolist(),\n",
        "        \"description\": \"Confusion matrix generated and logged.\"\n",
        "    }\n",
        "    log_to_blockchain(event, json.dumps(details))\n",
        "conf_matrix = confusion_matrix(y_true, y_pred)\n",
        "log_confusion_matrix(conf_matrix)\n",
        "print(\"Confusion Matrix:\")\n",
        "print(conf_matrix)"
      ],
      "metadata": {
        "colab": {
          "base_uri": "https://localhost:8080/"
        },
        "id": "WofS3-DQPX7z",
        "outputId": "72af41d4-bdff-47aa-d3fd-3cd1957bb8ed"
      },
      "execution_count": null,
      "outputs": [
        {
          "output_type": "stream",
          "name": "stdout",
          "text": [
            "Confusion Matrix:\n",
            "[[40  0  0  0  0  0  0  0  0]\n",
            " [ 0 29  0  0  0  0  0  0  0]\n",
            " [ 0  0 25  0  0  0  3 12  0]\n",
            " [ 0  0  0 36  0  0  0  4  0]\n",
            " [ 1  0  0  0 39  0  0  0  0]\n",
            " [ 0  0  0  0  0 40  0  0  0]\n",
            " [ 0  0  0  0  0  0 40  0  0]\n",
            " [ 0  0  0  2  0  0  0 48  0]\n",
            " [ 0  0  0  0  0  0  0  0 40]]\n"
          ]
        }
      ]
    },
    {
      "cell_type": "code",
      "source": [
        "def log_classification_report(class_report, class_names):\n",
        "    event = \"Classification Report\"\n",
        "    details = {\n",
        "        \"classification_report\": class_report,\n",
        "        \"class_names\": class_names,\n",
        "        \"description\": \"Classification report generated and logged.\"\n",
        "    }\n",
        "    log_to_blockchain(event, json.dumps(details))\n",
        "class_names = list(test_set.class_indices.keys())\n",
        "class_report = classification_report(y_true, y_pred, target_names=class_names)\n",
        "log_classification_report(class_report, class_names)\n",
        "print(\"\\nClassification Report\")\n",
        "print(class_report)"
      ],
      "metadata": {
        "colab": {
          "base_uri": "https://localhost:8080/"
        },
        "id": "ap1mlHlOPMF8",
        "outputId": "0877c623-a01a-465b-ba3d-240766271c79"
      },
      "execution_count": null,
      "outputs": [
        {
          "output_type": "stream",
          "name": "stdout",
          "text": [
            "\n",
            "Classification Report\n",
            "                     precision    recall  f1-score   support\n",
            "\n",
            "            Flicker       0.98      1.00      0.99        40\n",
            "          Harmonics       1.00      1.00      1.00        29\n",
            "ImpulsiveTransients       1.00      0.62      0.77        40\n",
            "          Interrupt       0.95      0.90      0.92        40\n",
            "             Normal       1.00      0.97      0.99        40\n",
            "           OscTrans       1.00      1.00      1.00        40\n",
            "      PeriodicNotch       0.93      1.00      0.96        40\n",
            "                Sag       0.75      0.96      0.84        50\n",
            "              Swell       1.00      1.00      1.00        40\n",
            "\n",
            "           accuracy                           0.94       359\n",
            "          macro avg       0.96      0.94      0.94       359\n",
            "       weighted avg       0.95      0.94      0.94       359\n",
            "\n"
          ]
        }
      ]
    },
    {
      "cell_type": "code",
      "source": [
        "def log_confusion_matrix_plot(event, details):\n",
        "    log_to_blockchain(event, json.dumps(details))\n",
        "log_confusion_matrix_plot(\"Confusion Matrix Plot\", {\n",
        "    \"description\": \"Confusion matrix plot created and ready for display.\",\n",
        "    \"confusion_matrix\": conf_matrix.tolist()\n",
        "})\n",
        "plt.figure(figsize=(8, 6))\n",
        "plt.imshow(conf_matrix, interpolation='nearest', cmap=plt.cm.Blues)\n",
        "plt.title('Confusion Matrix')\n",
        "plt.colorbar()\n",
        "tick_marks = np.arange(num_classes)\n",
        "plt.xticks(tick_marks, rotation=45)\n",
        "plt.yticks(tick_marks)\n",
        "plt.tight_layout()\n",
        "plt.ylabel('True label')\n",
        "plt.xlabel('Predicted label')\n",
        "plt.show()\n",
        "log_confusion_matrix_plot(\"Confusion Matrix Plot Displayed\", {\n",
        "    \"description\": \"Confusion matrix plot displayed.\"\n",
        "})"
      ],
      "metadata": {
        "colab": {
          "base_uri": "https://localhost:8080/",
          "height": 626
        },
        "id": "eTJrcX3gP_7w",
        "outputId": "dc11786c-8bbe-4972-f7d3-d84da8e75d51"
      },
      "execution_count": null,
      "outputs": [
        {
          "output_type": "display_data",
          "data": {
            "text/plain": [
              "<Figure size 800x600 with 2 Axes>"
            ],
            "image/png": "[encoded data removed]"
          },
          "metadata": {}
        }
      ]
    },
    {
      "cell_type": "markdown",
      "source": [
        "**Transfer Learning Model**"
      ],
      "metadata": {
        "id": "3BgC3FS4QPYB"
      }
    },
    {
      "cell_type": "code",
      "source": [
        "from keras.applications import InceptionV3, ResNet50, DenseNet201\n",
        "from keras.layers import Dense, GlobalAveragePooling2D\n",
        "from keras.models import Model\n",
        "from keras.optimizers import Adam\n",
        "from sklearn.metrics import accuracy_score, precision_score, recall_score, f1_score\n",
        "def log_model_architecture(model_name, layer_config):\n",
        "    event = \"Model Architecture\"\n",
        "    details = {\n",
        "        \"model_name\": model_name,\n",
        "        \"layer_config\": layer_config,\n",
        "        \"description\": f\"{model_name} model initialized with the following architecture.\"\n",
        "    }\n",
        "    log_to_blockchain(event, json.dumps(details))\n",
        "base_model = InceptionV3(weights='imagenet', include_top=False)\n",
        "x = base_model.output\n",
        "x = GlobalAveragePooling2D()(x)\n",
        "x = Dense(1024, activation='relu')(x)\n",
        "predictions = Dense(num_classes, activation='softmax')(x)\n",
        "model_inception = Model(inputs=base_model.input, outputs=predictions)\n",
        "log_model_architecture(\"InceptionV3\", {\"layers\": len(model_inception.layers), \"architecture\": \"GlobalAveragePooling2D and Dense layers added\"})\n",
        "base_model = ResNet50(weights='imagenet', include_top=False)\n",
        "x = base_model.output\n",
        "x = GlobalAveragePooling2D()(x)\n",
        "x = Dense(1024, activation='relu')(x)\n",
        "predictions = Dense(num_classes, activation='softmax')(x)\n",
        "model_resnet = Model(inputs=base_model.input, outputs=predictions)\n",
        "log_model_architecture(\"ResNet50\", {\"layers\": len(model_resnet.layers), \"architecture\": \"GlobalAveragePooling2D and Dense layers added\"})\n",
        "base_model = DenseNet201(weights='imagenet', include_top=False)\n",
        "x = base_model.output\n",
        "x = GlobalAveragePooling2D()(x)\n",
        "x = Dense(1024, activation='relu')(x)\n",
        "predictions = Dense(num_classes, activation='softmax')(x)\n",
        "model_densenet = Model(inputs=base_model.input, outputs=predictions)\n",
        "log_model_architecture(\"DenseNet201\", {\"layers\": len(model_densenet.layers), \"architecture\": \"GlobalAveragePooling2D and Dense layers added\"})\n",
        "def log_evaluation_metrics(model_name, accuracy, precision, recall, f1):\n",
        "    event = \"Model Evaluation Metrics\"\n",
        "    details = {\n",
        "        \"model_name\": model_name,\n",
        "        \"accuracy\": accuracy,\n",
        "        \"precision\": precision,\n",
        "        \"recall\": recall,\n",
        "        \"f1_score\": f1,\n",
        "        \"description\": f\"Evaluation metrics for {model_name} logged.\"\n",
        "    }\n",
        "    log_to_blockchain(event, json.dumps(details))\n",
        "y_true = [1, 0, 1, 1, 0]\n",
        "y_pred = [1, 0, 0, 1, 0]\n",
        "accuracy = accuracy_score(y_true, y_pred)\n",
        "precision = precision_score(y_true, y_pred)\n",
        "recall = recall_score(y_true, y_pred)\n",
        "f1 = f1_score(y_true, y_pred)\n",
        "log_evaluation_metrics(\"InceptionV3\", accuracy, precision, recall, f1)\n",
        "print(f\"InceptionV3 Evaluation - Accuracy: {accuracy}, Precision: {precision}, Recall: {recall}, F1-Score: {f1}\")"
      ],
      "metadata": {
        "id": "KLmqyNIxQV5z"
      },
      "execution_count": null,
      "outputs": []
    },
    {
      "cell_type": "code",
      "source": [
        "from keras.applications import InceptionV3\n",
        "from keras.layers import Dense, GlobalAveragePooling2D\n",
        "from keras.models import Model\n",
        "def log_inception_model_creation(layers_count, architecture_details):\n",
        "    event = \"InceptionV3 Model Creation\"\n",
        "    details = {\n",
        "        \"model_name\": \"InceptionV3\",\n",
        "        \"layers_count\": layers_count,\n",
        "        \"architecture\": architecture_details,\n",
        "        \"description\": \"InceptionV3 model created with GlobalAveragePooling2D and Dense layers.\"\n",
        "    }\n",
        "    log_to_blockchain(event, json.dumps(details))\n",
        "base_inception = InceptionV3(weights='imagenet', include_top=False)\n",
        "x = base_inception.output\n",
        "x = GlobalAveragePooling2D()(x)\n",
        "predictions = Dense(num_classes, activation='softmax')(x)\n",
        "inception_model = Model(inputs=base_inception.input, outputs=predictions)\n",
        "log_inception_model_creation(len(inception_model.layers), \"GlobalAveragePooling2D and Dense layers added\")\n",
        "print(f\"InceptionV3 model created with {len(inception_model.layers)} layers and custom top layers.\")\n"
      ],
      "metadata": {
        "colab": {
          "base_uri": "https://localhost:8080/"
        },
        "id": "IKkVjHzTQYja",
        "outputId": "96ce65ab-d90a-4eb2-c22d-e44156dbcc6c"
      },
      "execution_count": null,
      "outputs": [
        {
          "output_type": "stream",
          "name": "stdout",
          "text": [
            "Downloading data from https://storage.googleapis.com/tensorflow/keras-applications/inception_v3/inception_v3_weights_tf_dim_ordering_tf_kernels_notop.h5\n",
            "87910968/87910968 [==============================] - 0s 0us/step\n"
          ]
        }
      ]
    },
    {
      "cell_type": "code",
      "source": [
        "from keras.applications import ResNet50\n",
        "from keras.layers import Dense, GlobalAveragePooling2D\n",
        "from keras.models import Model\n",
        "def log_resnet_model_creation(layers_count, architecture_details):\n",
        "    event = \"ResNet50 Model Creation\"\n",
        "    details = {\n",
        "        \"model_name\": \"ResNet50\",\n",
        "        \"layers_count\": layers_count,\n",
        "        \"architecture\": architecture_details,\n",
        "        \"description\": \"ResNet50 model created with GlobalAveragePooling2D and Dense layers.\"\n",
        "    }\n",
        "    log_to_blockchain(event, json.dumps(details))\n",
        "base_resnet = ResNet50(weights='imagenet', include_top=False)\n",
        "x = base_resnet.output\n",
        "x = GlobalAveragePooling2D()(x)\n",
        "predictions = Dense(num_classes, activation='softmax')(x)\n",
        "resnet_model = Model(inputs=base_resnet.input, outputs=predictions)\n",
        "log_resnet_model_creation(len(resnet_model.layers), \"GlobalAveragePooling2D and Dense layers added\")\n",
        "print(f\"ResNet50 model created with {len(resnet_model.layers)} layers and custom top layers.\")\n"
      ],
      "metadata": {
        "colab": {
          "base_uri": "https://localhost:8080/"
        },
        "id": "SgJSEF0WQYnK",
        "outputId": "0415899a-35af-4c59-87d1-55f66dec77c4"
      },
      "execution_count": null,
      "outputs": [
        {
          "output_type": "stream",
          "name": "stdout",
          "text": [
            "Downloading data from https://storage.googleapis.com/tensorflow/keras-applications/resnet/resnet50_weights_tf_dim_ordering_tf_kernels_notop.h5\n",
            "94765736/94765736 [==============================] - 1s 0us/step\n"
          ]
        }
      ]
    },
    {
      "cell_type": "code",
      "source": [
        "from keras.applications import DenseNet201\n",
        "from keras.layers import Dense, GlobalAveragePooling2D\n",
        "from keras.models import Model\n",
        "def log_densenet_model_creation(layers_count, architecture_details):\n",
        "    event = \"DenseNet201 Model Creation\"\n",
        "    details = {\n",
        "        \"model_name\": \"DenseNet201\",\n",
        "        \"layers_count\": layers_count,\n",
        "        \"architecture\": architecture_details,\n",
        "        \"description\": \"DenseNet201 model created with GlobalAveragePooling2D and Dense layers.\"\n",
        "    }\n",
        "    log_to_blockchain(event, json.dumps(details))\n",
        "base_densenet = DenseNet201(weights='imagenet', include_top=False)\n",
        "x = base_densenet.output\n",
        "x = GlobalAveragePooling2D()(x)\n",
        "predictions = Dense(num_classes, activation='softmax')(x)\n",
        "densenet_model = Model(inputs=base_densenet.input, outputs=predictions)\n",
        "log_densenet_model_creation(len(densenet_model.layers), \"GlobalAveragePooling2D and Dense layers added\")\n",
        "print(f\"DenseNet201 model created with {len(densenet_model.layers)} layers and custom top layers.\")"
      ],
      "metadata": {
        "colab": {
          "base_uri": "https://localhost:8080/"
        },
        "id": "WoPSsLWmQYr1",
        "outputId": "b4cc5959-98d6-4cfe-88ea-f5b8cad94a62"
      },
      "execution_count": null,
      "outputs": [
        {
          "output_type": "stream",
          "name": "stdout",
          "text": [
            "Downloading data from https://storage.googleapis.com/tensorflow/keras-applications/densenet/densenet201_weights_tf_dim_ordering_tf_kernels_notop.h5\n",
            "74836368/74836368 [==============================] - 0s 0us/step\n"
          ]
        }
      ]
    },
    {
      "cell_type": "code",
      "source": [
        "from keras.optimizers import Adam\n",
        "def log_model_compilation(model_name, optimizer, loss, metrics):\n",
        "    event = \"Model Compilation\"\n",
        "    details = {\n",
        "        \"model_name\": model_name,\n",
        "        \"optimizer\": optimizer,\n",
        "        \"loss_function\": loss,\n",
        "        \"metrics\": metrics,\n",
        "        \"description\": f\"{model_name} compiled with optimizer={optimizer}, loss function={loss}, metrics={metrics}.\"\n",
        "    }\n",
        "    log_to_blockchain(event, json.dumps(details))\n",
        "models = [inception_model, resnet_model, densenet_model]\n",
        "model_names = ['InceptionV3', 'ResNet50', 'DenseNet201']\n",
        "for model, name in zip(models, model_names):\n",
        "    model.compile(optimizer=Adam(lr=0.0001), loss='categorical_crossentropy', metrics=['accuracy'])\n",
        "    log_model_compilation(name, \"Adam (lr=0.0001)\", \"categorical_crossentropy\", ['accuracy'])\n",
        "print(\"Models compiled successfully and logged to the blockchain.\")\n"
      ],
      "metadata": {
        "colab": {
          "base_uri": "https://localhost:8080/"
        },
        "id": "uUZ-Tg3ZQiVm",
        "outputId": "63ef56be-7fff-44a6-bbda-f10d3b7d42af"
      },
      "execution_count": null,
      "outputs": [
        {
          "output_type": "stream",
          "name": "stderr",
          "text": [
            "WARNING:absl:`lr` is deprecated in Keras optimizer, please use `learning_rate` or use the legacy optimizer, e.g.,tf.keras.optimizers.legacy.Adam.\n",
            "WARNING:absl:`lr` is deprecated in Keras optimizer, please use `learning_rate` or use the legacy optimizer, e.g.,tf.keras.optimizers.legacy.Adam.\n",
            "WARNING:absl:`lr` is deprecated in Keras optimizer, please use `learning_rate` or use the legacy optimizer, e.g.,tf.keras.optimizers.legacy.Adam.\n"
          ]
        }
      ]
    },
    {
      "cell_type": "code",
      "source": [
        "def log_training_start(model_name, train_size, val_size, epochs):\n",
        "    event = \"Training Start\"\n",
        "    details = {\n",
        "        \"model_name\": model_name,\n",
        "        \"train_size\": train_size,\n",
        "        \"val_size\": val_size,\n",
        "        \"epochs\": epochs,\n",
        "        \"description\": f\"Training started for {model_name} with {train_size} training samples, {val_size} validation samples, and {epochs} epochs.\"\n",
        "    }\n",
        "    log_to_blockchain(event, json.dumps(details))\n",
        "def log_epoch_performance(model_name, epoch, accuracy, val_accuracy, loss, val_loss):\n",
        "    event = \"Epoch Performance\"\n",
        "    details = {\n",
        "        \"model_name\": model_name,\n",
        "        \"epoch\": epoch,\n",
        "        \"accuracy\": accuracy,\n",
        "        \"val_accuracy\": val_accuracy,\n",
        "        \"loss\": loss,\n",
        "        \"val_loss\": val_loss,\n",
        "        \"description\": f\"Epoch {epoch} completed for {model_name} with accuracy {accuracy}, validation accuracy {val_accuracy}, loss {loss}, and validation loss {val_loss}.\"\n",
        "    }\n",
        "    log_to_blockchain(event, json.dumps(details))\n",
        "def log_training_completion(model_name, final_accuracy, final_val_accuracy):\n",
        "    event = \"Training Completion\"\n",
        "    details = {\n",
        "        \"model_name\": model_name,\n",
        "        \"final_accuracy\": final_accuracy,\n",
        "        \"final_val_accuracy\": final_val_accuracy,\n",
        "        \"description\": f\"Training completed for {model_name} with final accuracy {final_accuracy} and validation accuracy {final_val_accuracy}.\"\n",
        "    }\n",
        "    log_to_blockchain(event, json.dumps(details))\n",
        "histories = []\n",
        "for model, name in zip(models, model_names):\n",
        "    print(f'Training {name}...')\n",
        "    log_training_start(name, training_set.samples, test_set.samples, epochs)\n",
        "    class BlockchainCallback(tf.keras.callbacks.Callback):\n",
        "        def on_epoch_end(self, epoch, logs=None):\n",
        "            accuracy = logs.get('accuracy')\n",
        "            val_accuracy = logs.get('val_accuracy')\n",
        "            loss = logs.get('loss')\n",
        "            val_loss = logs.get('val_loss')\n",
        "            log_epoch_performance(name, epoch + 1, accuracy, val_accuracy, loss, val_loss)\n",
        "    history = model.fit(\n",
        "        training_set,\n",
        "        steps_per_epoch=training_set.samples // batch_size,\n",
        "        epochs=epochs,\n",
        "        validation_data=test_set,\n",
        "        validation_steps=test_set.samples // batch_size,\n",
        "        verbose=1,\n",
        "        callbacks=[BlockchainCallback()]\n",
        "    )\n",
        "    final_accuracy = history.history['accuracy'][-1]\n",
        "    final_val_accuracy = history.history['val_accuracy'][-1]\n",
        "    log_training_completion(name, final_accuracy, final_val_accuracy)\n",
        "    histories.append(history)\n",
        "print(\"All models have been trained and logged to the blockchain.\")"
      ],
      "metadata": {
        "colab": {
          "base_uri": "https://localhost:8080/"
        },
        "id": "yRZmRZz7QiXr",
        "outputId": "871da4b7-19bc-444c-8b2e-8d6f2a3fd8e9"
      },
      "execution_count": null,
      "outputs": [
        {
          "output_type": "stream",
          "name": "stdout",
          "text": [
            "Training InceptionV3...\n",
            "Epoch 1/10\n",
            "43/43 [==============================] - 90s 1s/step - loss: 0.7150 - accuracy: 0.7815 - val_loss: 16.5252 - val_accuracy: 0.1818\n",
            "Epoch 2/10\n",
            "43/43 [==============================] - 37s 851ms/step - loss: 0.3527 - accuracy: 0.8937 - val_loss: 6.7547 - val_accuracy: 0.3693\n",
            "Epoch 3/10\n",
            "43/43 [==============================] - 36s 828ms/step - loss: 0.1828 - accuracy: 0.9469 - val_loss: 0.5161 - val_accuracy: 0.8977\n",
            "Epoch 4/10\n",
            "43/43 [==============================] - 37s 861ms/step - loss: 0.2327 - accuracy: 0.9362 - val_loss: 0.5195 - val_accuracy: 0.8920\n",
            "Epoch 5/10\n",
            "43/43 [==============================] - 40s 923ms/step - loss: 0.2007 - accuracy: 0.9479 - val_loss: 1.8792 - val_accuracy: 0.7528\n",
            "Epoch 6/10\n",
            "43/43 [==============================] - 36s 843ms/step - loss: 0.1590 - accuracy: 0.9516 - val_loss: 0.7717 - val_accuracy: 0.7784\n",
            "Epoch 7/10\n",
            "43/43 [==============================] - 35s 823ms/step - loss: 0.2574 - accuracy: 0.9333 - val_loss: 9.9696 - val_accuracy: 0.4062\n",
            "Epoch 8/10\n",
            "43/43 [==============================] - 40s 925ms/step - loss: 0.2103 - accuracy: 0.9450 - val_loss: 3.8631 - val_accuracy: 0.5625\n",
            "Epoch 9/10\n",
            "43/43 [==============================] - 40s 924ms/step - loss: 0.1468 - accuracy: 0.9589 - val_loss: 2.6336 - val_accuracy: 0.8381\n",
            "Epoch 10/10\n",
            "43/43 [==============================] - 35s 805ms/step - loss: 0.1188 - accuracy: 0.9648 - val_loss: 0.7670 - val_accuracy: 0.8835\n",
            "Training ResNet50...\n",
            "Epoch 1/10\n",
            "43/43 [==============================] - 81s 989ms/step - loss: 1.0596 - accuracy: 0.7221 - val_loss: 2632.3796 - val_accuracy: 0.1136\n",
            "Epoch 2/10\n",
            "43/43 [==============================] - 40s 943ms/step - loss: 0.5006 - accuracy: 0.8746 - val_loss: 15781.8750 - val_accuracy: 0.1420\n",
            "Epoch 3/10\n",
            "43/43 [==============================] - 41s 946ms/step - loss: 0.2593 - accuracy: 0.9230 - val_loss: 68.9280 - val_accuracy: 0.1136\n",
            "Epoch 4/10\n",
            "43/43 [==============================] - 41s 950ms/step - loss: 0.1494 - accuracy: 0.9538 - val_loss: 4.4519 - val_accuracy: 0.1136\n",
            "Epoch 5/10\n",
            "43/43 [==============================] - 36s 830ms/step - loss: 0.1948 - accuracy: 0.9465 - val_loss: 7.4721 - val_accuracy: 0.1136\n",
            "Epoch 6/10\n",
            "43/43 [==============================] - 41s 957ms/step - loss: 0.1496 - accuracy: 0.9509 - val_loss: 15.8595 - val_accuracy: 0.1136\n",
            "Epoch 7/10\n",
            "43/43 [==============================] - 39s 905ms/step - loss: 0.1380 - accuracy: 0.9626 - val_loss: 8.0728 - val_accuracy: 0.1136\n",
            "Epoch 8/10\n",
            "43/43 [==============================] - 41s 951ms/step - loss: 0.1093 - accuracy: 0.9707 - val_loss: 5.5216 - val_accuracy: 0.1136\n",
            "Epoch 9/10\n",
            "43/43 [==============================] - 41s 949ms/step - loss: 0.0898 - accuracy: 0.9714 - val_loss: 5.2179 - val_accuracy: 0.1136\n",
            "Epoch 10/10\n",
            "43/43 [==============================] - 36s 827ms/step - loss: 0.0957 - accuracy: 0.9663 - val_loss: 5.3455 - val_accuracy: 0.1136\n",
            "Training DenseNet201...\n",
            "Epoch 1/10\n",
            "43/43 [==============================] - 196s 1s/step - loss: 0.5409 - accuracy: 0.8211 - val_loss: 262.5462 - val_accuracy: 0.1875\n",
            "Epoch 2/10\n",
            "43/43 [==============================] - 40s 921ms/step - loss: 0.2727 - accuracy: 0.9260 - val_loss: 36.8406 - val_accuracy: 0.3153\n",
            "Epoch 3/10\n",
            "43/43 [==============================] - 42s 976ms/step - loss: 0.1740 - accuracy: 0.9413 - val_loss: 2.5280 - val_accuracy: 0.7926\n",
            "Epoch 4/10\n",
            "43/43 [==============================] - 42s 981ms/step - loss: 0.1486 - accuracy: 0.9604 - val_loss: 1.2007 - val_accuracy: 0.8097\n",
            "Epoch 5/10\n",
            "43/43 [==============================] - 42s 985ms/step - loss: 0.2030 - accuracy: 0.9375 - val_loss: 24.0578 - val_accuracy: 0.1989\n",
            "Epoch 6/10\n",
            "43/43 [==============================] - 38s 883ms/step - loss: 0.1127 - accuracy: 0.9633 - val_loss: 0.1372 - val_accuracy: 0.9688\n",
            "Epoch 7/10\n",
            "43/43 [==============================] - 42s 976ms/step - loss: 0.1335 - accuracy: 0.9582 - val_loss: 0.5474 - val_accuracy: 0.8864\n",
            "Epoch 8/10\n",
            "43/43 [==============================] - 42s 982ms/step - loss: 0.1139 - accuracy: 0.9633 - val_loss: 0.0287 - val_accuracy: 0.9915\n",
            "Epoch 9/10\n",
            "43/43 [==============================] - 37s 867ms/step - loss: 0.0760 - accuracy: 0.9758 - val_loss: 1.1646 - val_accuracy: 0.8438\n",
            "Epoch 10/10\n",
            "43/43 [==============================] - 44s 1s/step - loss: 0.0654 - accuracy: 0.9795 - val_loss: 0.0868 - val_accuracy: 0.9858\n"
          ]
        }
      ]
    },
    {
      "cell_type": "code",
      "source": [
        "from sklearn.metrics import accuracy_score, precision_score, recall_score, f1_score\n",
        "def log_evaluation_metrics(model_name, accuracy, precision, recall, f1):\n",
        "    event = \"Model Evaluation\"\n",
        "    details = {\n",
        "        \"model_name\": model_name,\n",
        "        \"accuracy\": accuracy,\n",
        "        \"precision\": precision,\n",
        "        \"recall\": recall,\n",
        "        \"f1_score\": f1,\n",
        "        \"description\": f\"Evaluation metrics logged for {model_name}.\"\n",
        "    }\n",
        "    log_to_blockchain(event, json.dumps(details))\n",
        "metrics = []\n",
        "for model, name in zip(models, model_names):\n",
        "    print(f'Evaluating {name}...')\n",
        "    y_pred = model.predict(test_set)\n",
        "    y_pred = np.argmax(y_pred, axis=1)\n",
        "    y_true = test_set.classes\n",
        "    accuracy = accuracy_score(y_true, y_pred)\n",
        "    precision = precision_score(y_true, y_pred, average='weighted')\n",
        "    recall = recall_score(y_true, y_pred, average='weighted')\n",
        "    f1 = f1_score(y_true, y_pred, average='weighted')\n",
        "    log_evaluation_metrics(name, accuracy, precision, recall, f1)\n",
        "    metrics.append((accuracy, precision, recall, f1))\n",
        "    print(f\"{name} evaluation metrics logged to the blockchain.\")"
      ],
      "metadata": {
        "colab": {
          "base_uri": "https://localhost:8080/"
        },
        "id": "waFfSOj7Qiei",
        "outputId": "2d58d2ae-6f7b-4892-d954-9fe741304889"
      },
      "execution_count": null,
      "outputs": [
        {
          "output_type": "stream",
          "name": "stdout",
          "text": [
            "Evaluating InceptionV3...\n",
            "12/12 [==============================] - 9s 562ms/step\n",
            "Evaluating ResNet50...\n"
          ]
        },
        {
          "output_type": "stream",
          "name": "stderr",
          "text": [
            "/usr/local/lib/python3.10/dist-packages/sklearn/metrics/_classification.py:1344: UndefinedMetricWarning: Precision is ill-defined and being set to 0.0 in labels with no predicted samples. Use `zero_division` parameter to control this behavior.\n",
            "  _warn_prf(average, modifier, msg_start, len(result))\n"
          ]
        },
        {
          "output_type": "stream",
          "name": "stdout",
          "text": [
            "12/12 [==============================] - 8s 608ms/step\n",
            "Evaluating DenseNet201...\n"
          ]
        },
        {
          "output_type": "stream",
          "name": "stderr",
          "text": [
            "/usr/local/lib/python3.10/dist-packages/sklearn/metrics/_classification.py:1344: UndefinedMetricWarning: Precision is ill-defined and being set to 0.0 in labels with no predicted samples. Use `zero_division` parameter to control this behavior.\n",
            "  _warn_prf(average, modifier, msg_start, len(result))\n"
          ]
        },
        {
          "output_type": "stream",
          "name": "stdout",
          "text": [
            "12/12 [==============================] - 12s 790ms/step\n"
          ]
        }
      ]
    },
    {
      "cell_type": "code",
      "source": [
        "def log_loss_curves(history, model_name):\n",
        "    event = \"Loss Curve\"\n",
        "    details = {\n",
        "        \"model_name\": model_name,\n",
        "        \"loss_values\": history.history['loss'],\n",
        "        \"description\": f\"Loss curve values logged for {model_name}.\"\n",
        "    }\n",
        "    log_to_blockchain(event, json.dumps(details))\n",
        "plt.figure(figsize=(10, 6))\n",
        "for history, name in zip(histories, model_names):\n",
        "    plt.plot(history.history['loss'], label=name)\n",
        "    log_loss_curves(history, name)\n",
        "plt.title('Training Loss Curves')\n",
        "plt.xlabel('Epochs')\n",
        "plt.ylabel('Loss')\n",
        "plt.legend()\n",
        "plt.show()\n",
        "def log_loss_plot_display():\n",
        "    event = \"Loss Curve Plot Displayed\"\n",
        "    details = {\n",
        "        \"description\": \"Training loss curves plot displayed for all models.\"\n",
        "    }\n",
        "    log_to_blockchain(event, json.dumps(details))\n",
        "log_loss_plot_display()\n",
        "print(\"Training loss curves for all models plotted and logged to the blockchain.\")"
      ],
      "metadata": {
        "colab": {
          "base_uri": "https://localhost:8080/",
          "height": 564
        },
        "id": "r_-Ek3kVaBYG",
        "outputId": "283b1f27-49a2-4fd6-aca0-4dd56d121e40"
      },
      "execution_count": null,
      "outputs": [
        {
          "output_type": "display_data",
          "data": {
            "text/plain": [
              "<Figure size 1000x600 with 1 Axes>"
            ],
            "image/png": "[encoded data removed]"
          },
          "metadata": {}
        }
      ]
    },
    {
      "cell_type": "code",
      "source": [
        "def log_model_metrics(model_name, accuracy, precision, recall, f1_score):\n",
        "    event = \"Model Metrics\"\n",
        "    details = {\n",
        "        \"model_name\": model_name,\n",
        "        \"accuracy\": accuracy,\n",
        "        \"precision\": precision,\n",
        "        \"recall\": recall,\n",
        "        \"f1_score\": f1_score,\n",
        "        \"description\": f\"Metrics for {model_name} - Accuracy: {accuracy}, Precision: {precision}, Recall: {recall}, F1 Score: {f1_score}.\"\n",
        "    }\n",
        "    log_to_blockchain(event, json.dumps(details))\n",
        "for i, (name, metric) in enumerate(zip(model_names, metrics)):\n",
        "    accuracy, precision, recall, f1 = metric\n",
        "    print(f'{name}:')\n",
        "    print(f'Accuracy: {accuracy}')\n",
        "    print(f'Precision: {precision}')\n",
        "    print(f'Recall: {recall}')\n",
        "    print(f'F1 Score: {f1}')\n",
        "    print()\n",
        "    log_model_metrics(name, accuracy, precision, recall, f1)\n",
        "print(\"Model metrics for all models logged to the blockchain.\")"
      ],
      "metadata": {
        "colab": {
          "base_uri": "https://localhost:8080/"
        },
        "id": "m4kJRMg4Qiiz",
        "outputId": "6e840b87-f19a-4962-cc87-0a5c0b7cfce4"
      },
      "execution_count": null,
      "outputs": [
        {
          "output_type": "stream",
          "name": "stdout",
          "text": [
            "InceptionV3:\n",
            "Accuracy: 0.883008356545961\n",
            "Precision: 0.8476234136944782\n",
            "Recall: 0.883008356545961\n",
            "F1 Score: 0.8553074201581827\n",
            "\n",
            "ResNet50:\n",
            "Accuracy: 0.11142061281337047\n",
            "Precision: 0.012414552959707018\n",
            "Recall: 0.11142061281337047\n",
            "F1 Score: 0.022339972493908865\n",
            "\n",
            "DenseNet201:\n",
            "Accuracy: 0.9860724233983287\n",
            "Precision: 0.9871532774583254\n",
            "Recall: 0.9860724233983287\n",
            "F1 Score: 0.986156855566726\n",
            "\n"
          ]
        }
      ]
    },
    {
      "cell_type": "code",
      "source": [
        "def log_accuracy_curves(event, details):\n",
        "    log_to_blockchain(event, json.dumps(details))\n",
        "log_accuracy_curves(\"Accuracy Curves\", {\n",
        "    \"model_name\": \"ResNet50\",\n",
        "    \"training_accuracy\": histories[1].history['accuracy'],\n",
        "    \"validation_accuracy\": histories[1].history['val_accuracy'],\n",
        "    \"description\": \"Training and validation accuracy for ResNet50 logged for plotting.\"\n",
        "})\n",
        "plt.figure(figsize=(12, 8))\n",
        "plt.plot(histories[1].history['accuracy'], label='ResNet50 Training Accuracy')\n",
        "plt.plot(histories[1].history['val_accuracy'], label='ResNet50 Validation Accuracy')\n",
        "plt.title('Training and Validation Accuracy Curves for ResNet50, InceptionV3, and DenseNet201')\n",
        "plt.xlabel('Epochs')\n",
        "plt.ylabel('Accuracy')\n",
        "plt.legend()\n",
        "plt.show()\n",
        "log_accuracy_curves(\"ResNet50 Accuracy Plot Displayed\", {\n",
        "    \"description\": \"ResNet50 training and validation accuracy plot displayed.\"\n",
        "})"
      ],
      "metadata": {
        "colab": {
          "base_uri": "https://localhost:8080/",
          "height": 718
        },
        "id": "tAfFRjq1oPgS",
        "outputId": "9d7293a8-5e0f-4e48-ade5-9d5794db2096"
      },
      "execution_count": null,
      "outputs": [
        {
          "output_type": "display_data",
          "data": {
            "text/plain": [
              "<Figure size 1200x800 with 1 Axes>"
            ],
            "image/png": "[encoded data removed]"
          },
          "metadata": {}
        }
      ]
    },
    {
      "cell_type": "code",
      "source": [
        "def log_accuracy_curves(event, details):\n",
        "    log_to_blockchain(event, json.dumps(details))\n",
        "log_accuracy_curves(\"Accuracy Curves\", {\n",
        "    \"model_name\": \"InceptionV3\",\n",
        "    \"training_accuracy\": histories[0].history['accuracy'],\n",
        "    \"validation_accuracy\": histories[0].history['val_accuracy'],\n",
        "    \"description\": \"Training and validation accuracy for InceptionV3 logged for plotting.\"\n",
        "})\n",
        "plt.plot(histories[0].history['accuracy'], label='InceptionV3 Training Accuracy')\n",
        "plt.plot(histories[0].history['val_accuracy'], label='InceptionV3 Validation Accuracy')\n",
        "plt.title('Training and Validation Accuracy Curves for ResNet50, InceptionV3, and DenseNet201')\n",
        "plt.xlabel('Epochs')\n",
        "plt.ylabel('Accuracy')\n",
        "plt.legend()\n",
        "plt.show()\n",
        "log_accuracy_curves(\"InceptionV3 Accuracy Plot Displayed\", {\n",
        "    \"description\": \"InceptionV3 training and validation accuracy plot displayed.\"\n",
        "})"
      ],
      "metadata": {
        "colab": {
          "base_uri": "https://localhost:8080/",
          "height": 472
        },
        "id": "7uK2E4MKoTAx",
        "outputId": "fc41787a-5509-42e9-e847-81e4986698cb"
      },
      "execution_count": null,
      "outputs": [
        {
          "output_type": "display_data",
          "data": {
            "text/plain": [
              "<Figure size 640x480 with 1 Axes>"
            ],
            "image/png": "[encoded data removed]"
          },
          "metadata": {}
        }
      ]
    },
    {
      "cell_type": "code",
      "source": [
        "def log_accuracy_curves(event, details):\n",
        "    log_to_blockchain(event, json.dumps(details))\n",
        "log_accuracy_curves(\"Accuracy Curves\", {\n",
        "    \"model_name\": \"DenseNet201\",\n",
        "    \"training_accuracy\": histories[2].history['accuracy'],\n",
        "    \"validation_accuracy\": histories[2].history['val_accuracy'],\n",
        "    \"description\": \"Training and validation accuracy for DenseNet201 logged for plotting.\"\n",
        "})\n",
        "plt.plot(histories[2].history['accuracy'], label='DenseNet201 Training Accuracy')\n",
        "plt.plot(histories[2].history['val_accuracy'], label='DenseNet201 Validation Accuracy')\n",
        "plt.title('Training and Validation Accuracy Curves for ResNet50, InceptionV3, and DenseNet201')\n",
        "plt.xlabel('Epochs')\n",
        "plt.ylabel('Accuracy')\n",
        "plt.legend()\n",
        "plt.show()\n",
        "log_accuracy_curves(\"DenseNet201 Accuracy Plot Displayed\", {\n",
        "    \"description\": \"DenseNet201 training and validation accuracy plot displayed.\"\n",
        "})\n",
        "print(\"DenseNet201 accuracy plot logged and displayed.\")"
      ],
      "metadata": {
        "colab": {
          "base_uri": "https://localhost:8080/",
          "height": 472
        },
        "id": "lrsGJaqjoTGY",
        "outputId": "9d64ffda-bba2-4984-f8b6-fa19d847119b"
      },
      "execution_count": null,
      "outputs": [
        {
          "output_type": "display_data",
          "data": {
            "text/plain": [
              "<Figure size 640x480 with 1 Axes>"
            ],
            "image/png": "[encoded data removed]"
          },
          "metadata": {}
        }
      ]
    },
    {
      "cell_type": "code",
      "source": [
        "def log_accuracy_curve(event, details):\n",
        "    log_to_blockchain(event, json.dumps(details))\n",
        "for history, name in zip(histories, model_names):\n",
        "    log_accuracy_curve(f\"{name} Accuracy Curves\", {\n",
        "        \"model_name\": name,\n",
        "        \"training_accuracy\": history.history['accuracy'],\n",
        "        \"validation_accuracy\": history.history['val_accuracy'],\n",
        "        \"description\": f\"Training and validation accuracy values logged for {name}.\"\n",
        "    })\n",
        "plt.figure(figsize=(10, 6))\n",
        "for history, name in zip(histories, model_names):\n",
        "    plt.plot(history.history['accuracy'], label=f'{name} Training Accuracy')\n",
        "    plt.plot(history.history['val_accuracy'], label=f'{name} Validation Accuracy')\n",
        "plt.title('Training and Validation Accuracy Curves')\n",
        "plt.xlabel('Epochs')\n",
        "plt.ylabel('Accuracy')\n",
        "plt.legend()\n",
        "plt.show()\n",
        "log_accuracy_curve(\"Accuracy Curves Plot Displayed\", {\n",
        "    \"description\": \"Training and validation accuracy curves plot displayed for all models.\"\n",
        "})\n",
        "print(\"Training and validation accuracy curves for all models logged and displayed.\")"
      ],
      "metadata": {
        "colab": {
          "base_uri": "https://localhost:8080/",
          "height": 564
        },
        "id": "Qp41YpHkoTLY",
        "outputId": "6efabe16-c29b-40ce-c4d8-b3da5bbe8d75"
      },
      "execution_count": null,
      "outputs": [
        {
          "output_type": "display_data",
          "data": {
            "text/plain": [
              "<Figure size 1000x600 with 1 Axes>"
            ],
            "image/png": "[encoded data removed]"
          },
          "metadata": {}
        }
      ]
    },
    {
      "cell_type": "markdown",
      "source": [
        " DenseNet201 classification classes of the Test Images"
      ],
      "metadata": {
        "id": "tOj26xpVoe9v"
      }
    },
    {
      "cell_type": "code",
      "source": [
        "import os\n",
        "import numpy as np\n",
        "from keras.preprocessing import image\n",
        "def log_image_prediction(event, details):\n",
        "    log_to_blockchain(event, json.dumps(details))\n",
        "test_image_dir = '/content/drive/MyDrive/val/OscTrans'\n",
        "def load_image(img_path):\n",
        "    img = image.load_img(img_path, target_size=(img_width, img_height))\n",
        "    img = image.img_to_array(img)\n",
        "    img = np.expand_dims(img, axis=0)\n",
        "    img = img / 255.0\n",
        "    log_image_prediction(\"Image Loaded\", {\n",
        "        \"image_path\": img_path,\n",
        "        \"description\": f\"Image loaded and preprocessed from {img_path}.\"\n",
        "    })\n",
        "    return img\n",
        "def predict_classes_densenet(img_path):\n",
        "    img = load_image(img_path)\n",
        "    prediction = densenet_model.predict(img)\n",
        "    predicted_class = np.argmax(prediction)\n",
        "    log_image_prediction(\"DenseNet201 Prediction\", {\n",
        "        \"image_path\": img_path,\n",
        "        \"predicted_class\": class_names[predicted_class],\n",
        "        \"description\": f\"DenseNet201 predicted class {class_names[predicted_class]} for image {img_path}.\"\n",
        "    })\n",
        "    return predicted_class\n",
        "test_images = os.listdir(test_image_dir)\n",
        "for image_name in test_images:\n",
        "    img_path = os.path.join(test_image_dir, image_name)\n",
        "    predicted_class = predict_classes_densenet(img_path)\n",
        "    print(f'DenseNet201 predicts {class_names[predicted_class]} for image {image_name}')"
      ],
      "metadata": {
        "colab": {
          "base_uri": "https://localhost:8080/"
        },
        "id": "PWWb8nEsoi8e",
        "outputId": "e126df8c-c91e-43e1-bbcf-2138c8b746e0"
      },
      "execution_count": null,
      "outputs": [
        {
          "output_type": "stream",
          "name": "stdout",
          "text": [
            "1/1 [==============================] - 0s 36ms/step\n",
            "DenseNet201 predicts OscTrans for image FIG747.png\n",
            "1/1 [==============================] - 0s 36ms/step\n",
            "DenseNet201 predicts OscTrans for image FIG664.png\n",
            "1/1 [==============================] - 0s 40ms/step\n",
            "DenseNet201 predicts OscTrans for image FIG797.png\n",
            "1/1 [==============================] - 0s 35ms/step\n",
            "DenseNet201 predicts OscTrans for image FIG644.png\n",
            "1/1 [==============================] - 0s 37ms/step\n",
            "DenseNet201 predicts OscTrans for image FIG788.png\n",
            "1/1 [==============================] - 0s 35ms/step\n",
            "DenseNet201 predicts OscTrans for image FIG693.png\n",
            "1/1 [==============================] - 0s 36ms/step\n",
            "DenseNet201 predicts OscTrans for image FIG617.png\n",
            "1/1 [==============================] - 0s 36ms/step\n",
            "DenseNet201 predicts PeriodicNotch for image FIG753.png\n",
            "1/1 [==============================] - 0s 35ms/step\n",
            "DenseNet201 predicts OscTrans for image FIG691.png\n",
            "1/1 [==============================] - 0s 39ms/step\n",
            "DenseNet201 predicts OscTrans for image FIG628.png\n",
            "1/1 [==============================] - 0s 47ms/step\n",
            "DenseNet201 predicts OscTrans for image FIG703.png\n",
            "1/1 [==============================] - 0s 36ms/step\n",
            "DenseNet201 predicts OscTrans for image FIG709.png\n",
            "1/1 [==============================] - 0s 38ms/step\n",
            "DenseNet201 predicts OscTrans for image FIG631.png\n",
            "1/1 [==============================] - 0s 39ms/step\n",
            "DenseNet201 predicts OscTrans for image FIG774.png\n",
            "1/1 [==============================] - 0s 40ms/step\n",
            "DenseNet201 predicts OscTrans for image FIG701.png\n",
            "1/1 [==============================] - 0s 37ms/step\n",
            "DenseNet201 predicts OscTrans for image FIG779.png\n",
            "1/1 [==============================] - 0s 36ms/step\n",
            "DenseNet201 predicts OscTrans for image FIG730.png\n",
            "1/1 [==============================] - 0s 35ms/step\n",
            "DenseNet201 predicts OscTrans for image FIG718.png\n",
            "1/1 [==============================] - 0s 48ms/step\n",
            "DenseNet201 predicts OscTrans for image FIG772.png\n",
            "1/1 [==============================] - 0s 35ms/step\n",
            "DenseNet201 predicts OscTrans for image FIG737.png\n",
            "1/1 [==============================] - 0s 36ms/step\n",
            "DenseNet201 predicts OscTrans for image FIG763.png\n",
            "1/1 [==============================] - 0s 36ms/step\n",
            "DenseNet201 predicts OscTrans for image FIG782.png\n",
            "1/1 [==============================] - 0s 41ms/step\n",
            "DenseNet201 predicts OscTrans for image FIG686.png\n",
            "1/1 [==============================] - 0s 38ms/step\n",
            "DenseNet201 predicts OscTrans for image FIG643.png\n",
            "1/1 [==============================] - 0s 43ms/step\n",
            "DenseNet201 predicts OscTrans for image FIG759.png\n",
            "1/1 [==============================] - 0s 38ms/step\n",
            "DenseNet201 predicts OscTrans for image FIG699.png\n",
            "1/1 [==============================] - 0s 38ms/step\n",
            "DenseNet201 predicts OscTrans for image FIG680.png\n",
            "1/1 [==============================] - 0s 39ms/step\n",
            "DenseNet201 predicts OscTrans for image FIG694.png\n",
            "1/1 [==============================] - 0s 39ms/step\n",
            "DenseNet201 predicts OscTrans for image FIG681.png\n",
            "1/1 [==============================] - 0s 41ms/step\n",
            "DenseNet201 predicts OscTrans for image FIG704.png\n",
            "1/1 [==============================] - 0s 39ms/step\n",
            "DenseNet201 predicts OscTrans for image FIG750.png\n",
            "1/1 [==============================] - 0s 38ms/step\n",
            "DenseNet201 predicts OscTrans for image FIG769.png\n",
            "1/1 [==============================] - 0s 36ms/step\n",
            "DenseNet201 predicts OscTrans for image FIG766.png\n",
            "1/1 [==============================] - 0s 36ms/step\n",
            "DenseNet201 predicts OscTrans for image FIG679.png\n",
            "1/1 [==============================] - 0s 36ms/step\n",
            "DenseNet201 predicts OscTrans for image FIG605.png\n",
            "1/1 [==============================] - 0s 37ms/step\n",
            "DenseNet201 predicts OscTrans for image FIG653.png\n",
            "1/1 [==============================] - 0s 35ms/step\n",
            "DenseNet201 predicts OscTrans for image FIG755.png\n",
            "1/1 [==============================] - 0s 38ms/step\n",
            "DenseNet201 predicts OscTrans for image FIG790.png\n",
            "1/1 [==============================] - 0s 40ms/step\n",
            "DenseNet201 predicts OscTrans for image FIG690.png\n",
            "1/1 [==============================] - 0s 36ms/step\n",
            "DenseNet201 predicts OscTrans for image FIG770.png\n"
          ]
        }
      ]
    },
    {
      "cell_type": "markdown",
      "source": [
        "ResNet50 predicts classes of the images"
      ],
      "metadata": {
        "id": "YJ5tUJFIpyi2"
      }
    },
    {
      "cell_type": "code",
      "source": [
        "import os\n",
        "import numpy as np\n",
        "from keras.preprocessing import image\n",
        "def log_image_prediction(event, details):\n",
        "    log_to_blockchain(event, json.dumps(details))\n",
        "test_image_dir = '/content/drive/MyDrive/val/Flicker'\n",
        "def load_image(img_path):\n",
        "    img = image.load_img(img_path, target_size=(img_width, img_height))\n",
        "    img = image.img_to_array(img)\n",
        "    img = np.expand_dims(img, axis=0)\n",
        "    img = img / 255.0\n",
        "    log_image_prediction(\"Image Loaded\", {\n",
        "        \"image_path\": img_path,\n",
        "        \"description\": f\"Image loaded and preprocessed from {img_path}.\"\n",
        "    })\n",
        "    return img\n",
        "def predict_classes_resnet(img_path):\n",
        "    img = load_image(img_path)\n",
        "    prediction = resnet_model.predict(img)\n",
        "    predicted_class = np.argmax(prediction)\n",
        "    log_image_prediction(\"ResNet50 Prediction\", {\n",
        "        \"image_path\": img_path,\n",
        "        \"predicted_class\": class_names[predicted_class],\n",
        "        \"description\": f\"ResNet50 predicted class {class_names[predicted_class]} for image {img_path}.\"\n",
        "    })\n",
        "    return predicted_class\n",
        "test_images = os.listdir(test_image_dir)\n",
        "for image_name in test_images:\n",
        "    img_path = os.path.join(test_image_dir, image_name)\n",
        "    predicted_class = predict_classes_resnet(img_path)\n",
        "    print(f'ResNet 50 predicts {class_names[predicted_class]} for image {image_name}')"
      ],
      "metadata": {
        "colab": {
          "base_uri": "https://localhost:8080/"
        },
        "id": "iKba_PCBo_8u",
        "outputId": "7386a3e1-4cf5-4b22-e5af-58b294035fc1"
      },
      "execution_count": null,
      "outputs": [
        {
          "output_type": "stream",
          "name": "stdout",
          "text": [
            "1/1 [==============================] - 3s 3s/step\n",
            "ResNet 50 predicts OscTrans for image FIG1094.png\n",
            "1/1 [==============================] - 0s 118ms/step\n",
            "ResNet 50 predicts OscTrans for image FIG1031.png\n",
            "1/1 [==============================] - 0s 55ms/step\n",
            "ResNet 50 predicts OscTrans for image FIG1109.png\n",
            "1/1 [==============================] - 0s 59ms/step\n",
            "ResNet 50 predicts OscTrans for image FIG1137.png\n",
            "1/1 [==============================] - 0s 69ms/step\n",
            "ResNet 50 predicts OscTrans for image FIG1188.png\n",
            "1/1 [==============================] - 0s 76ms/step\n",
            "ResNet 50 predicts OscTrans for image FIG1005.png\n",
            "1/1 [==============================] - 0s 67ms/step\n",
            "ResNet 50 predicts OscTrans for image FIG1043.png\n",
            "1/1 [==============================] - 0s 45ms/step\n",
            "ResNet 50 predicts OscTrans for image FIG1081.png\n",
            "1/1 [==============================] - 0s 53ms/step\n",
            "ResNet 50 predicts OscTrans for image FIG1163.png\n",
            "1/1 [==============================] - 0s 43ms/step\n",
            "ResNet 50 predicts OscTrans for image FIG1017.png\n",
            "1/1 [==============================] - 0s 50ms/step\n",
            "ResNet 50 predicts OscTrans for image FIG1101.png\n",
            "1/1 [==============================] - 0s 128ms/step\n",
            "ResNet 50 predicts OscTrans for image FIG1155.png\n",
            "1/1 [==============================] - 0s 79ms/step\n",
            "ResNet 50 predicts OscTrans for image FIG1170.png\n",
            "1/1 [==============================] - 0s 38ms/step\n",
            "ResNet 50 predicts OscTrans for image FIG1099.png\n",
            "1/1 [==============================] - 0s 71ms/step\n",
            "ResNet 50 predicts OscTrans for image FIG1028.png\n",
            "1/1 [==============================] - 0s 41ms/step\n",
            "ResNet 50 predicts OscTrans for image FIG1091.png\n",
            "1/1 [==============================] - 0s 59ms/step\n",
            "ResNet 50 predicts OscTrans for image FIG1086.png\n",
            "1/1 [==============================] - 0s 63ms/step\n",
            "ResNet 50 predicts OscTrans for image FIG1118.png\n",
            "1/1 [==============================] - 0s 51ms/step\n",
            "ResNet 50 predicts OscTrans for image FIG1104.png\n",
            "1/1 [==============================] - 0s 34ms/step\n",
            "ResNet 50 predicts OscTrans for image FIG1166.png\n",
            "1/1 [==============================] - 0s 35ms/step\n",
            "ResNet 50 predicts OscTrans for image FIG1093.png\n",
            "1/1 [==============================] - 0s 90ms/step\n",
            "ResNet 50 predicts OscTrans for image FIG1064.png\n",
            "1/1 [==============================] - 0s 89ms/step\n",
            "ResNet 50 predicts OscTrans for image FIG1103.png\n",
            "1/1 [==============================] - 0s 102ms/step\n",
            "ResNet 50 predicts OscTrans for image FIG1190.png\n",
            "1/1 [==============================] - 0s 23ms/step\n",
            "ResNet 50 predicts OscTrans for image FIG1147.png\n",
            "1/1 [==============================] - 0s 26ms/step\n",
            "ResNet 50 predicts OscTrans for image FIG1130.png\n",
            "1/1 [==============================] - 0s 22ms/step\n",
            "ResNet 50 predicts OscTrans for image FIG1174.png\n",
            "1/1 [==============================] - 0s 24ms/step\n",
            "ResNet 50 predicts OscTrans for image FIG1150.png\n",
            "1/1 [==============================] - 0s 24ms/step\n",
            "ResNet 50 predicts OscTrans for image FIG1079.png\n",
            "1/1 [==============================] - 0s 25ms/step\n",
            "ResNet 50 predicts OscTrans for image FIG1172.png\n",
            "1/1 [==============================] - 0s 22ms/step\n",
            "ResNet 50 predicts OscTrans for image FIG1169.png\n",
            "1/1 [==============================] - 0s 24ms/step\n",
            "ResNet 50 predicts OscTrans for image FIG1044.png\n",
            "1/1 [==============================] - 0s 22ms/step\n",
            "ResNet 50 predicts OscTrans for image FIG1153.png\n",
            "1/1 [==============================] - 0s 23ms/step\n",
            "ResNet 50 predicts OscTrans for image FIG1080.png\n",
            "1/1 [==============================] - 0s 22ms/step\n",
            "ResNet 50 predicts OscTrans for image FIG1159.png\n",
            "1/1 [==============================] - 0s 23ms/step\n",
            "ResNet 50 predicts OscTrans for image FIG1179.png\n",
            "1/1 [==============================] - 0s 23ms/step\n",
            "ResNet 50 predicts OscTrans for image FIG1182.png\n",
            "1/1 [==============================] - 0s 39ms/step\n",
            "ResNet 50 predicts OscTrans for image FIG1053.png\n",
            "1/1 [==============================] - 0s 36ms/step\n",
            "ResNet 50 predicts OscTrans for image FIG1197.png\n",
            "1/1 [==============================] - 0s 33ms/step\n",
            "ResNet 50 predicts OscTrans for image FIG1090.png\n"
          ]
        }
      ]
    },
    {
      "cell_type": "code",
      "source": [
        "import os\n",
        "import numpy as np\n",
        "from keras.preprocessing import image\n",
        "def log_image_prediction(event, details):\n",
        "    log_to_blockchain(event, json.dumps(details))\n",
        "test_image_dir = '/content/drive/MyDrive/val/OscTrans'\n",
        "def load_image(img_path):\n",
        "    img = image.load_img(img_path, target_size=(img_width, img_height))\n",
        "    img = image.img_to_array(img)\n",
        "    img = np.expand_dims(img, axis=0)\n",
        "    img = img / 255.0\n",
        "    log_image_prediction(\"Image Loaded\", {\n",
        "        \"image_path\": img_path,\n",
        "        \"description\": f\"Image loaded and preprocessed from {img_path}.\"\n",
        "    })\n",
        "    return img\n",
        "def predict_classes_resnet(img_path):\n",
        "    img = load_image(img_path)\n",
        "    prediction = resnet_model.predict(img)\n",
        "    predicted_class = np.argmax(prediction)\n",
        "    log_image_prediction(\"ResNet50 Prediction\", {\n",
        "        \"image_path\": img_path,\n",
        "        \"predicted_class\": class_names[predicted_class],\n",
        "        \"description\": f\"ResNet50 predicted class {class_names[predicted_class]} for image {img_path}.\"\n",
        "    })\n",
        "    return predicted_class\n",
        "test_images = os.listdir(test_image_dir)\n",
        "for image_name in test_images:\n",
        "    img_path = os.path.join(test_image_dir, image_name)\n",
        "    predicted_class = predict_classes_resnet(img_path)\n",
        "    print(f'ResNet 50 predicts {class_names[predicted_class]} for image {image_name}')"
      ],
      "metadata": {
        "colab": {
          "base_uri": "https://localhost:8080/"
        },
        "id": "csO0GSMLpoIk",
        "outputId": "deb4cd6f-0c89-49f5-8485-9e49ba4551a1"
      },
      "execution_count": null,
      "outputs": [
        {
          "output_type": "stream",
          "name": "stdout",
          "text": [
            "1/1 [==============================] - 0s 34ms/step\n",
            "ResNet 50 predicts OscTrans for image FIG747.png\n",
            "1/1 [==============================] - 0s 58ms/step\n",
            "ResNet 50 predicts OscTrans for image FIG664.png\n",
            "1/1 [==============================] - 0s 35ms/step\n",
            "ResNet 50 predicts OscTrans for image FIG797.png\n",
            "1/1 [==============================] - 0s 38ms/step\n",
            "ResNet 50 predicts OscTrans for image FIG644.png\n",
            "1/1 [==============================] - 0s 42ms/step\n",
            "ResNet 50 predicts OscTrans for image FIG788.png\n",
            "1/1 [==============================] - 0s 32ms/step\n",
            "ResNet 50 predicts OscTrans for image FIG693.png\n",
            "1/1 [==============================] - 0s 40ms/step\n",
            "ResNet 50 predicts OscTrans for image FIG617.png\n",
            "1/1 [==============================] - 0s 43ms/step\n",
            "ResNet 50 predicts OscTrans for image FIG753.png\n",
            "1/1 [==============================] - 0s 36ms/step\n",
            "ResNet 50 predicts OscTrans for image FIG691.png\n",
            "1/1 [==============================] - 0s 46ms/step\n",
            "ResNet 50 predicts OscTrans for image FIG628.png\n",
            "1/1 [==============================] - 0s 34ms/step\n",
            "ResNet 50 predicts OscTrans for image FIG703.png\n",
            "1/1 [==============================] - 0s 41ms/step\n",
            "ResNet 50 predicts OscTrans for image FIG709.png\n",
            "1/1 [==============================] - 0s 42ms/step\n",
            "ResNet 50 predicts OscTrans for image FIG631.png\n",
            "1/1 [==============================] - 0s 38ms/step\n",
            "ResNet 50 predicts OscTrans for image FIG774.png\n",
            "1/1 [==============================] - 0s 33ms/step\n",
            "ResNet 50 predicts OscTrans for image FIG701.png\n",
            "1/1 [==============================] - 0s 26ms/step\n",
            "ResNet 50 predicts OscTrans for image FIG779.png\n",
            "1/1 [==============================] - 0s 28ms/step\n",
            "ResNet 50 predicts OscTrans for image FIG730.png\n",
            "1/1 [==============================] - 0s 24ms/step\n",
            "ResNet 50 predicts OscTrans for image FIG718.png\n",
            "1/1 [==============================] - 0s 25ms/step\n",
            "ResNet 50 predicts OscTrans for image FIG772.png\n",
            "1/1 [==============================] - 0s 23ms/step\n",
            "ResNet 50 predicts OscTrans for image FIG737.png\n",
            "1/1 [==============================] - 0s 23ms/step\n",
            "ResNet 50 predicts OscTrans for image FIG763.png\n",
            "1/1 [==============================] - 0s 24ms/step\n",
            "ResNet 50 predicts OscTrans for image FIG782.png\n",
            "1/1 [==============================] - 0s 23ms/step\n",
            "ResNet 50 predicts OscTrans for image FIG686.png\n",
            "1/1 [==============================] - 0s 25ms/step\n",
            "ResNet 50 predicts OscTrans for image FIG643.png\n",
            "1/1 [==============================] - 0s 25ms/step\n",
            "ResNet 50 predicts OscTrans for image FIG759.png\n",
            "1/1 [==============================] - 0s 23ms/step\n",
            "ResNet 50 predicts OscTrans for image FIG699.png\n",
            "1/1 [==============================] - 0s 23ms/step\n",
            "ResNet 50 predicts OscTrans for image FIG680.png\n",
            "1/1 [==============================] - 0s 25ms/step\n",
            "ResNet 50 predicts OscTrans for image FIG694.png\n",
            "1/1 [==============================] - 0s 24ms/step\n",
            "ResNet 50 predicts OscTrans for image FIG681.png\n",
            "1/1 [==============================] - 0s 24ms/step\n",
            "ResNet 50 predicts OscTrans for image FIG704.png\n",
            "1/1 [==============================] - 0s 23ms/step\n",
            "ResNet 50 predicts OscTrans for image FIG750.png\n",
            "1/1 [==============================] - 0s 25ms/step\n",
            "ResNet 50 predicts OscTrans for image FIG769.png\n",
            "1/1 [==============================] - 0s 23ms/step\n",
            "ResNet 50 predicts OscTrans for image FIG766.png\n",
            "1/1 [==============================] - 0s 23ms/step\n",
            "ResNet 50 predicts OscTrans for image FIG679.png\n",
            "1/1 [==============================] - 0s 24ms/step\n",
            "ResNet 50 predicts OscTrans for image FIG605.png\n",
            "1/1 [==============================] - 0s 23ms/step\n",
            "ResNet 50 predicts OscTrans for image FIG653.png\n",
            "1/1 [==============================] - 0s 24ms/step\n",
            "ResNet 50 predicts OscTrans for image FIG755.png\n",
            "1/1 [==============================] - 0s 25ms/step\n",
            "ResNet 50 predicts OscTrans for image FIG790.png\n",
            "1/1 [==============================] - 0s 23ms/step\n",
            "ResNet 50 predicts OscTrans for image FIG690.png\n",
            "1/1 [==============================] - 0s 26ms/step\n",
            "ResNet 50 predicts OscTrans for image FIG770.png\n"
          ]
        }
      ]
    },
    {
      "cell_type": "markdown",
      "source": [
        "Inception V3 classification of classes for test images"
      ],
      "metadata": {
        "id": "lKZbFRQAqP-M"
      }
    },
    {
      "cell_type": "code",
      "source": [
        "import os\n",
        "import numpy as np\n",
        "from keras.preprocessing import image\n",
        "def log_image_prediction(event, details):\n",
        "    log_to_blockchain(event, json.dumps(details))\n",
        "test_image_dir = '/content/drive/MyDrive/val/OscTrans'\n",
        "def load_image(img_path):\n",
        "    img = image.load_img(img_path, target_size=(img_width, img_height))\n",
        "    img = image.img_to_array(img)\n",
        "    img = np.expand_dims(img, axis=0)\n",
        "    img = img / 255.0\n",
        "    log_image_prediction(\"Image Loaded\", {\n",
        "        \"image_path\": img_path,\n",
        "        \"description\": f\"Image loaded and preprocessed from {img_path}.\"\n",
        "    })\n",
        "    return img\n",
        "def predict_classes_inception(img_path):\n",
        "    img = load_image(img_path)\n",
        "    prediction = inception_model.predict(img)\n",
        "    predicted_class = np.argmax(prediction)\n",
        "    log_image_prediction(\"Inception V3 Prediction\", {\n",
        "        \"image_path\": img_path,\n",
        "        \"predicted_class\": class_names[predicted_class],\n",
        "        \"description\": f\"Inception V3 predicted class {class_names[predicted_class]} for image {img_path}.\"\n",
        "    })\n",
        "    return predicted_class\n",
        "test_images = os.listdir(test_image_dir)\n",
        "for image_name in test_images:\n",
        "    img_path = os.path.join(test_image_dir, image_name)\n",
        "    predicted_class = predict_classes_inception(img_path)\n",
        "    print(f'Inception V3 predicts {class_names[predicted_class]} for image {image_name}')"
      ],
      "metadata": {
        "colab": {
          "base_uri": "https://localhost:8080/"
        },
        "id": "QlHUXDrzqQrk",
        "outputId": "1947472b-f3dc-474c-97a5-6bf90fc9ed2d"
      },
      "execution_count": null,
      "outputs": [
        {
          "output_type": "stream",
          "name": "stdout",
          "text": [
            "1/1 [==============================] - 3s 3s/step\n",
            "Inception V3 predicts OscTrans for image FIG747.png\n",
            "1/1 [==============================] - 0s 30ms/step\n",
            "Inception V3 predicts OscTrans for image FIG664.png\n",
            "1/1 [==============================] - 0s 29ms/step\n",
            "Inception V3 predicts OscTrans for image FIG797.png\n",
            "1/1 [==============================] - 0s 33ms/step\n",
            "Inception V3 predicts OscTrans for image FIG644.png\n",
            "1/1 [==============================] - 0s 28ms/step\n",
            "Inception V3 predicts OscTrans for image FIG788.png\n",
            "1/1 [==============================] - 0s 27ms/step\n",
            "Inception V3 predicts OscTrans for image FIG693.png\n",
            "1/1 [==============================] - 0s 28ms/step\n",
            "Inception V3 predicts OscTrans for image FIG617.png\n",
            "1/1 [==============================] - 0s 28ms/step\n",
            "Inception V3 predicts OscTrans for image FIG753.png\n",
            "1/1 [==============================] - 0s 29ms/step\n",
            "Inception V3 predicts OscTrans for image FIG691.png\n",
            "1/1 [==============================] - 0s 27ms/step\n",
            "Inception V3 predicts OscTrans for image FIG628.png\n",
            "1/1 [==============================] - 0s 27ms/step\n",
            "Inception V3 predicts OscTrans for image FIG703.png\n",
            "1/1 [==============================] - 0s 28ms/step\n",
            "Inception V3 predicts OscTrans for image FIG709.png\n",
            "1/1 [==============================] - 0s 28ms/step\n",
            "Inception V3 predicts OscTrans for image FIG631.png\n",
            "1/1 [==============================] - 0s 29ms/step\n",
            "Inception V3 predicts OscTrans for image FIG774.png\n",
            "1/1 [==============================] - 0s 29ms/step\n",
            "Inception V3 predicts OscTrans for image FIG701.png\n",
            "1/1 [==============================] - 0s 27ms/step\n",
            "Inception V3 predicts OscTrans for image FIG779.png\n",
            "1/1 [==============================] - 0s 29ms/step\n",
            "Inception V3 predicts OscTrans for image FIG730.png\n",
            "1/1 [==============================] - 0s 29ms/step\n",
            "Inception V3 predicts OscTrans for image FIG718.png\n",
            "1/1 [==============================] - 0s 30ms/step\n",
            "Inception V3 predicts OscTrans for image FIG772.png\n",
            "1/1 [==============================] - 0s 31ms/step\n",
            "Inception V3 predicts OscTrans for image FIG737.png\n",
            "1/1 [==============================] - 0s 28ms/step\n",
            "Inception V3 predicts OscTrans for image FIG763.png\n",
            "1/1 [==============================] - 0s 28ms/step\n",
            "Inception V3 predicts OscTrans for image FIG782.png\n",
            "1/1 [==============================] - 0s 31ms/step\n",
            "Inception V3 predicts OscTrans for image FIG686.png\n",
            "1/1 [==============================] - 0s 34ms/step\n",
            "Inception V3 predicts OscTrans for image FIG643.png\n",
            "1/1 [==============================] - 0s 26ms/step\n",
            "Inception V3 predicts OscTrans for image FIG759.png\n",
            "1/1 [==============================] - 0s 27ms/step\n",
            "Inception V3 predicts OscTrans for image FIG699.png\n",
            "1/1 [==============================] - 0s 26ms/step\n",
            "Inception V3 predicts OscTrans for image FIG680.png\n",
            "1/1 [==============================] - 0s 28ms/step\n",
            "Inception V3 predicts OscTrans for image FIG694.png\n",
            "1/1 [==============================] - 0s 31ms/step\n",
            "Inception V3 predicts OscTrans for image FIG681.png\n",
            "1/1 [==============================] - 0s 26ms/step\n",
            "Inception V3 predicts OscTrans for image FIG704.png\n",
            "1/1 [==============================] - 0s 27ms/step\n",
            "Inception V3 predicts OscTrans for image FIG750.png\n",
            "1/1 [==============================] - 0s 36ms/step\n",
            "Inception V3 predicts OscTrans for image FIG769.png\n",
            "1/1 [==============================] - 0s 27ms/step\n",
            "Inception V3 predicts OscTrans for image FIG766.png\n",
            "1/1 [==============================] - 0s 26ms/step\n",
            "Inception V3 predicts OscTrans for image FIG679.png\n",
            "1/1 [==============================] - 0s 26ms/step\n",
            "Inception V3 predicts OscTrans for image FIG605.png\n",
            "1/1 [==============================] - 0s 27ms/step\n",
            "Inception V3 predicts OscTrans for image FIG653.png\n",
            "1/1 [==============================] - 0s 27ms/step\n",
            "Inception V3 predicts OscTrans for image FIG755.png\n",
            "1/1 [==============================] - 0s 25ms/step\n",
            "Inception V3 predicts OscTrans for image FIG790.png\n",
            "1/1 [==============================] - 0s 30ms/step\n",
            "Inception V3 predicts OscTrans for image FIG690.png\n",
            "1/1 [==============================] - 0s 28ms/step\n",
            "Inception V3 predicts OscTrans for image FIG770.png\n"
          ]
        }
      ]
    },
    {
      "cell_type": "code",
      "source": [
        "import os\n",
        "import numpy as np\n",
        "from keras.preprocessing import image\n",
        "def log_image_prediction(event, details):\n",
        "    log_to_blockchain(event, json.dumps(details))\n",
        "test_image_dir = '/content/drive/MyDrive/val/Swell'\n",
        "def load_image(img_path):\n",
        "    img = image.load_img(img_path, target_size=(img_width, img_height))\n",
        "    img = image.img_to_array(img)\n",
        "    img = np.expand_dims(img, axis=0)\n",
        "    img = img / 255.0\n",
        "    log_image_prediction(\"Image Loaded\", {\n",
        "        \"image_path\": img_path,\n",
        "        \"description\": f\"Image loaded and preprocessed from {img_path}.\"\n",
        "    })\n",
        "    return img\n",
        "def predict_classes_inception(img_path):\n",
        "    img = load_image(img_path)\n",
        "    prediction = inception_model.predict(img)\n",
        "    predicted_class = np.argmax(prediction)\n",
        "    log_image_prediction(\"Inception V3 Prediction\", {\n",
        "        \"image_path\": img_path,\n",
        "        \"predicted_class\": class_names[predicted_class],\n",
        "        \"description\": f\"Inception V3 predicted class {class_names[predicted_class]} for image {img_path}.\"\n",
        "    })\n",
        "    return predicted_class\n",
        "test_images = os.listdir(test_image_dir)\n",
        "for image_name in test_images:\n",
        "    img_path = os.path.join(test_image_dir, image_name)\n",
        "    predicted_class = predict_classes_inception(img_path)\n",
        "    print(f'Inception V3 predicts {class_names[predicted_class]} for image {image_name}')"
      ],
      "metadata": {
        "colab": {
          "base_uri": "https://localhost:8080/"
        },
        "id": "c53bOZB2qN5E",
        "outputId": "3c500340-88f9-467a-aad9-029aafa798ee"
      },
      "execution_count": null,
      "outputs": [
        {
          "output_type": "stream",
          "name": "stdout",
          "text": [
            "1/1 [==============================] - 0s 27ms/step\n",
            "Inception V3 predicts Swell for image FIG559.png\n",
            "1/1 [==============================] - 0s 28ms/step\n",
            "Inception V3 predicts Swell for image FIG479.png\n",
            "1/1 [==============================] - 0s 26ms/step\n",
            "Inception V3 predicts Swell for image FIG547.png\n",
            "1/1 [==============================] - 0s 26ms/step\n",
            "Inception V3 predicts Swell for image FIG493.png\n",
            "1/1 [==============================] - 0s 28ms/step\n",
            "Inception V3 predicts Swell for image FIG582.png\n",
            "1/1 [==============================] - 0s 29ms/step\n",
            "Inception V3 predicts Swell for image FIG443.png\n",
            "1/1 [==============================] - 0s 36ms/step\n",
            "Inception V3 predicts Swell for image FIG553.png\n",
            "1/1 [==============================] - 0s 27ms/step\n",
            "Inception V3 predicts Swell for image FIG444.png\n",
            "1/1 [==============================] - 0s 28ms/step\n",
            "Inception V3 predicts Swell for image FIG499.png\n",
            "1/1 [==============================] - 0s 26ms/step\n",
            "Inception V3 predicts Swell for image FIG597.png\n",
            "1/1 [==============================] - 0s 29ms/step\n",
            "Inception V3 predicts Swell for image FIG566.png\n",
            "1/1 [==============================] - 0s 27ms/step\n",
            "Inception V3 predicts Swell for image FIG464.png\n",
            "1/1 [==============================] - 0s 29ms/step\n",
            "Inception V3 predicts Swell for image FIG405.png\n",
            "1/1 [==============================] - 0s 27ms/step\n",
            "Inception V3 predicts Swell for image FIG490.png\n",
            "1/1 [==============================] - 0s 32ms/step\n",
            "Inception V3 predicts Swell for image FIG569.png\n",
            "1/1 [==============================] - 0s 28ms/step\n",
            "Inception V3 predicts Swell for image FIG509.png\n",
            "1/1 [==============================] - 0s 27ms/step\n",
            "Inception V3 predicts Swell for image FIG491.png\n",
            "1/1 [==============================] - 0s 29ms/step\n",
            "Inception V3 predicts Swell for image FIG494.png\n",
            "1/1 [==============================] - 0s 30ms/step\n",
            "Inception V3 predicts Swell for image FIG574.png\n",
            "1/1 [==============================] - 0s 28ms/step\n",
            "Inception V3 predicts Swell for image FIG563.png\n",
            "1/1 [==============================] - 0s 26ms/step\n",
            "Inception V3 predicts Swell for image FIG518.png\n",
            "1/1 [==============================] - 0s 27ms/step\n",
            "Inception V3 predicts Swell for image FIG453.png\n",
            "1/1 [==============================] - 0s 29ms/step\n",
            "Inception V3 predicts Swell for image FIG504.png\n",
            "1/1 [==============================] - 0s 28ms/step\n",
            "Inception V3 predicts Swell for image FIG501.png\n",
            "1/1 [==============================] - 0s 27ms/step\n",
            "Inception V3 predicts Swell for image FIG481.png\n",
            "1/1 [==============================] - 0s 27ms/step\n",
            "Inception V3 predicts Swell for image FIG530.png\n",
            "1/1 [==============================] - 0s 27ms/step\n",
            "Inception V3 predicts Swell for image FIG431.png\n",
            "1/1 [==============================] - 0s 34ms/step\n",
            "Inception V3 predicts Swell for image FIG570.png\n",
            "1/1 [==============================] - 0s 28ms/step\n",
            "Inception V3 predicts Swell for image FIG480.png\n",
            "1/1 [==============================] - 0s 28ms/step\n",
            "Inception V3 predicts Swell for image FIG572.png\n",
            "1/1 [==============================] - 0s 26ms/step\n",
            "Inception V3 predicts Swell for image FIG537.png\n",
            "1/1 [==============================] - 0s 31ms/step\n",
            "Inception V3 predicts Swell for image FIG417.png\n",
            "1/1 [==============================] - 0s 26ms/step\n",
            "Inception V3 predicts Swell for image FIG550.png\n",
            "1/1 [==============================] - 0s 31ms/step\n",
            "Inception V3 predicts Swell for image FIG503.png\n",
            "1/1 [==============================] - 0s 27ms/step\n",
            "Inception V3 predicts Swell for image FIG486.png\n",
            "1/1 [==============================] - 0s 27ms/step\n",
            "Inception V3 predicts Swell for image FIG579.png\n",
            "1/1 [==============================] - 0s 28ms/step\n",
            "Inception V3 predicts Swell for image FIG588.png\n",
            "1/1 [==============================] - 0s 27ms/step\n",
            "Inception V3 predicts PeriodicNotch for image FIG590.png\n",
            "1/1 [==============================] - 0s 27ms/step\n",
            "Inception V3 predicts Swell for image FIG555.png\n",
            "1/1 [==============================] - 0s 26ms/step\n",
            "Inception V3 predicts Swell for image FIG428.png\n"
          ]
        }
      ]
    },
    {
      "cell_type": "markdown",
      "source": [
        "Prediction of Classes using Main Model"
      ],
      "metadata": {
        "id": "vddnvLrSrX9L"
      }
    },
    {
      "cell_type": "code",
      "source": [
        "import os\n",
        "import numpy as np\n",
        "from keras.preprocessing import image\n",
        "def log_image_prediction(event, details):\n",
        "    log_to_blockchain(event, json.dumps(details))\n",
        "test_image_dir = '/content/drive/MyDrive/val/Swell'\n",
        "def load_image(img_path):\n",
        "    img = image.load_img(img_path, target_size=(img_width, img_height))\n",
        "    img = image.img_to_array(img)\n",
        "    img = np.expand_dims(img, axis=0)\n",
        "    img = img / 255.0\n",
        "    log_image_prediction(\"Image Loaded\", {\n",
        "        \"image_path\": img_path,\n",
        "        \"description\": f\"Image loaded and preprocessed from {img_path}.\"\n",
        "    })\n",
        "    return img\n",
        "def predict_classes_main_model(img_path):\n",
        "    img = load_image(img_path)\n",
        "    prediction = model.predict(img)\n",
        "    predicted_class = np.argmax(prediction)\n",
        "    log_image_prediction(\"Main Model Prediction\", {\n",
        "        \"image_path\": img_path,\n",
        "        \"predicted_class\": class_names[predicted_class],\n",
        "        \"description\": f\"Main model predicted class {class_names[predicted_class]} for image {img_path}.\"\n",
        "    })\n",
        "    return predicted_class\n",
        "test_images = os.listdir(test_image_dir)\n",
        "for image_name in test_images:\n",
        "    img_path = os.path.join(test_image_dir, image_name)\n",
        "    predicted_class = predict_classes_main_model(img_path)\n",
        "    print(f'Main model predicts {class_names[predicted_class]} for image {image_name}')"
      ],
      "metadata": {
        "colab": {
          "base_uri": "https://localhost:8080/"
        },
        "id": "bWtvuxZfrbCC",
        "outputId": "40917012-c459-4ee8-d011-36c5e5105580"
      },
      "execution_count": null,
      "outputs": [
        {
          "output_type": "stream",
          "name": "stdout",
          "text": [
            "1/1 [==============================] - 0s 59ms/step\n",
            "Main model predicts Swell for image FIG559.png\n",
            "1/1 [==============================] - 0s 51ms/step\n",
            "Main model predicts Swell for image FIG479.png\n",
            "1/1 [==============================] - 0s 54ms/step\n",
            "Main model predicts Swell for image FIG547.png\n",
            "1/1 [==============================] - 0s 67ms/step\n",
            "Main model predicts Swell for image FIG493.png\n",
            "1/1 [==============================] - 0s 59ms/step\n",
            "Main model predicts Swell for image FIG582.png\n",
            "1/1 [==============================] - 0s 55ms/step\n",
            "Main model predicts Swell for image FIG443.png\n",
            "1/1 [==============================] - 0s 53ms/step\n",
            "Main model predicts Swell for image FIG553.png\n",
            "1/1 [==============================] - 0s 62ms/step\n",
            "Main model predicts Swell for image FIG444.png\n",
            "1/1 [==============================] - 0s 78ms/step\n",
            "Main model predicts Swell for image FIG499.png\n",
            "1/1 [==============================] - 0s 72ms/step\n",
            "Main model predicts Swell for image FIG597.png\n",
            "1/1 [==============================] - 0s 54ms/step\n",
            "Main model predicts Swell for image FIG566.png\n",
            "1/1 [==============================] - 0s 64ms/step\n",
            "Main model predicts Swell for image FIG464.png\n",
            "1/1 [==============================] - 0s 62ms/step\n",
            "Main model predicts Swell for image FIG405.png\n",
            "1/1 [==============================] - 0s 67ms/step\n",
            "Main model predicts Swell for image FIG490.png\n",
            "1/1 [==============================] - 0s 55ms/step\n",
            "Main model predicts Swell for image FIG569.png\n",
            "1/1 [==============================] - 0s 60ms/step\n",
            "Main model predicts Swell for image FIG509.png\n",
            "1/1 [==============================] - 0s 61ms/step\n",
            "Main model predicts Swell for image FIG491.png\n",
            "1/1 [==============================] - 0s 36ms/step\n",
            "Main model predicts Swell for image FIG494.png\n",
            "1/1 [==============================] - 0s 37ms/step\n",
            "Main model predicts Swell for image FIG574.png\n",
            "1/1 [==============================] - 0s 38ms/step\n",
            "Main model predicts Swell for image FIG563.png\n",
            "1/1 [==============================] - 0s 39ms/step\n",
            "Main model predicts Swell for image FIG518.png\n",
            "1/1 [==============================] - 0s 39ms/step\n",
            "Main model predicts Swell for image FIG453.png\n",
            "1/1 [==============================] - 0s 42ms/step\n",
            "Main model predicts Swell for image FIG504.png\n",
            "1/1 [==============================] - 0s 36ms/step\n",
            "Main model predicts Swell for image FIG501.png\n",
            "1/1 [==============================] - 0s 37ms/step\n",
            "Main model predicts Swell for image FIG481.png\n",
            "1/1 [==============================] - 0s 37ms/step\n",
            "Main model predicts Swell for image FIG530.png\n",
            "1/1 [==============================] - 0s 38ms/step\n",
            "Main model predicts Swell for image FIG431.png\n",
            "1/1 [==============================] - 0s 42ms/step\n",
            "Main model predicts Swell for image FIG570.png\n",
            "1/1 [==============================] - 0s 36ms/step\n",
            "Main model predicts Swell for image FIG480.png\n",
            "1/1 [==============================] - 0s 47ms/step\n",
            "Main model predicts Swell for image FIG572.png\n",
            "1/1 [==============================] - 0s 37ms/step\n",
            "Main model predicts Swell for image FIG537.png\n",
            "1/1 [==============================] - 0s 38ms/step\n",
            "Main model predicts Swell for image FIG417.png\n",
            "1/1 [==============================] - 0s 36ms/step\n",
            "Main model predicts Swell for image FIG550.png\n",
            "1/1 [==============================] - 0s 37ms/step\n",
            "Main model predicts Swell for image FIG503.png\n",
            "1/1 [==============================] - 0s 36ms/step\n",
            "Main model predicts Swell for image FIG486.png\n",
            "1/1 [==============================] - 0s 39ms/step\n",
            "Main model predicts Swell for image FIG579.png\n",
            "1/1 [==============================] - 0s 39ms/step\n",
            "Main model predicts Swell for image FIG588.png\n",
            "1/1 [==============================] - 0s 38ms/step\n",
            "Main model predicts Swell for image FIG590.png\n",
            "1/1 [==============================] - 0s 39ms/step\n",
            "Main model predicts Swell for image FIG555.png\n",
            "1/1 [==============================] - 0s 36ms/step\n",
            "Main model predicts Swell for image FIG428.png\n"
          ]
        }
      ]
    },
    {
      "cell_type": "code",
      "source": [
        "import os\n",
        "import numpy as np\n",
        "from keras.preprocessing import image\n",
        "def log_image_prediction(event, details):\n",
        "    log_to_blockchain(event, json.dumps(details))\n",
        "test_image_dir = '/content/drive/MyDrive/val/Normal'\n",
        "def load_image(img_path):\n",
        "    img = image.load_img(img_path, target_size=(img_width, img_height))\n",
        "    img = image.img_to_array(img)\n",
        "    img = np.expand_dims(img, axis=0)\n",
        "    img = img / 255.0\n",
        "    log_image_prediction(\"Image Loaded\", {\n",
        "        \"image_path\": img_path,\n",
        "        \"description\": f\"Image loaded and preprocessed from {img_path}.\"\n",
        "    })\n",
        "    return img\n",
        "def predict_classes_main_model(img_path):\n",
        "    img = load_image(img_path)\n",
        "    prediction = model.predict(img)\n",
        "    predicted_class = np.argmax(prediction)\n",
        "    log_image_prediction(\"Main Model Prediction\", {\n",
        "        \"image_path\": img_path,\n",
        "        \"predicted_class\": class_names[predicted_class],\n",
        "        \"description\": f\"Main model predicted class {class_names[predicted_class]} for image {img_path}.\"\n",
        "    })\n",
        "    return predicted_class\n",
        "test_images = os.listdir(test_image_dir)\n",
        "for image_name in test_images:\n",
        "    img_path = os.path.join(test_image_dir, image_name)\n",
        "    predicted_class = predict_classes_main_model(img_path)\n",
        "    print(f'Main model predicts {class_names[predicted_class]} for image {image_name}')"
      ],
      "metadata": {
        "colab": {
          "base_uri": "https://localhost:8080/"
        },
        "id": "wXno4CHJpoO7",
        "outputId": "73f5e67c-0c3b-41d2-bf5f-ca681a828b01"
      },
      "execution_count": null,
      "outputs": [
        {
          "output_type": "stream",
          "name": "stdout",
          "text": [
            "1/1 [==============================] - 0s 37ms/step\n",
            "Main model predicts Normal for image FIG24.png\n",
            "1/1 [==============================] - 0s 37ms/step\n",
            "Main model predicts Normal for image FIG180.png\n",
            "1/1 [==============================] - 0s 39ms/step\n",
            "Main model predicts Normal for image FIG146.png\n",
            "1/1 [==============================] - 0s 42ms/step\n",
            "Main model predicts Normal for image FIG197.png\n",
            "1/1 [==============================] - 0s 37ms/step\n",
            "Main model predicts Normal for image FIG41.png\n",
            "1/1 [==============================] - 0s 38ms/step\n",
            "Main model predicts Normal for image FIG182.png\n",
            "1/1 [==============================] - 0s 40ms/step\n",
            "Main model predicts Normal for image FIG61.png\n",
            "1/1 [==============================] - 0s 46ms/step\n",
            "Main model predicts Normal for image FIG176.png\n",
            "1/1 [==============================] - 0s 35ms/step\n",
            "Main model predicts Flicker for image FIG126.png\n",
            "1/1 [==============================] - 0s 37ms/step\n",
            "Main model predicts Normal for image FIG191.png\n",
            "1/1 [==============================] - 0s 37ms/step\n",
            "Main model predicts Normal for image FIG73.png\n",
            "1/1 [==============================] - 0s 35ms/step\n",
            "Main model predicts Normal for image FIG188.png\n",
            "1/1 [==============================] - 0s 38ms/step\n",
            "Main model predicts Normal for image FIG70.png\n",
            "1/1 [==============================] - 0s 40ms/step\n",
            "Main model predicts Normal for image FIG68.png\n",
            "1/1 [==============================] - 0s 40ms/step\n",
            "Main model predicts Normal for image FIG35.png\n",
            "1/1 [==============================] - 0s 42ms/step\n",
            "Main model predicts Normal for image FIG8.png\n",
            "1/1 [==============================] - 0s 35ms/step\n",
            "Main model predicts Normal for image FIG17.png\n",
            "1/1 [==============================] - 0s 41ms/step\n",
            "Main model predicts Normal for image FIG75.png\n",
            "1/1 [==============================] - 0s 51ms/step\n",
            "Main model predicts Normal for image FIG102.png\n",
            "1/1 [==============================] - 0s 38ms/step\n",
            "Main model predicts Normal for image FIG183.png\n",
            "1/1 [==============================] - 0s 39ms/step\n",
            "Main model predicts Normal for image FIG138.png\n",
            "1/1 [==============================] - 0s 36ms/step\n",
            "Main model predicts Normal for image FIG82.png\n",
            "1/1 [==============================] - 0s 46ms/step\n",
            "Main model predicts Normal for image FIG171.png\n",
            "1/1 [==============================] - 0s 37ms/step\n",
            "Main model predicts Normal for image FIG19.png\n",
            "1/1 [==============================] - 0s 57ms/step\n",
            "Main model predicts Normal for image FIG192.png\n",
            "1/1 [==============================] - 0s 38ms/step\n",
            "Main model predicts Normal for image FIG50.png\n",
            "1/1 [==============================] - 0s 37ms/step\n",
            "Main model predicts Normal for image FIG156.png\n",
            "1/1 [==============================] - 0s 38ms/step\n",
            "Main model predicts Normal for image FIG71.png\n",
            "1/1 [==============================] - 0s 38ms/step\n",
            "Main model predicts Normal for image FIG9.png\n",
            "1/1 [==============================] - 0s 47ms/step\n",
            "Main model predicts Normal for image FIG137.png\n",
            "1/1 [==============================] - 0s 40ms/step\n",
            "Main model predicts Normal for image FIG170.png\n",
            "1/1 [==============================] - 0s 36ms/step\n",
            "Main model predicts Normal for image FIG88.png\n",
            "1/1 [==============================] - 0s 36ms/step\n",
            "Main model predicts Normal for image FIG18.png\n",
            "1/1 [==============================] - 0s 38ms/step\n",
            "Main model predicts Normal for image FIG65.png\n",
            "1/1 [==============================] - 0s 42ms/step\n",
            "Main model predicts Normal for image FIG56.png\n",
            "1/1 [==============================] - 0s 42ms/step\n",
            "Main model predicts Normal for image FIG113.png\n",
            "1/1 [==============================] - 0s 38ms/step\n",
            "Main model predicts Normal for image FIG58.png\n",
            "1/1 [==============================] - 0s 40ms/step\n",
            "Main model predicts Normal for image FIG123.png\n",
            "1/1 [==============================] - 0s 41ms/step\n",
            "Main model predicts Normal for image FIG53.png\n",
            "1/1 [==============================] - 0s 42ms/step\n",
            "Main model predicts Normal for image FIG96.png\n"
          ]
        }
      ]
    },
    {
      "cell_type": "markdown",
      "source": [
        "Predict the class of the images using all the Transfer Learning Models - InceptionV3, ResNet50, DenseNet201"
      ],
      "metadata": {
        "id": "LzdReJGls0An"
      }
    },
    {
      "cell_type": "code",
      "source": [
        "import os\n",
        "import numpy as np\n",
        "from keras.preprocessing import image\n",
        "def log_image_prediction(event, details):\n",
        "    log_to_blockchain(event, json.dumps(details))\n",
        "test_image_dir = '/content/drive/MyDrive/val/Normal'\n",
        "def load_image(img_path):\n",
        "    img = image.load_img(img_path, target_size=(img_width, img_height))\n",
        "    img = image.img_to_array(img)\n",
        "    img = np.expand_dims(img, axis=0)\n",
        "    img = img / 255.0\n",
        "    log_image_prediction(\"Image Loaded\", {\n",
        "        \"image_path\": img_path,\n",
        "        \"description\": f\"Image loaded and preprocessed from {img_path}.\"\n",
        "    })\n",
        "    return img\n",
        "def predict_classes(model, model_name, img_path):\n",
        "    img = load_image(img_path)\n",
        "    prediction = model.predict(img)\n",
        "    predicted_class = np.argmax(prediction)\n",
        "    log_image_prediction(f\"{model_name} Prediction\", {\n",
        "        \"image_path\": img_path,\n",
        "        \"predicted_class\": class_names[predicted_class],\n",
        "        \"description\": f\"{model_name} predicted class {class_names[predicted_class]} for image {img_path}.\"\n",
        "    })\n",
        "    return predicted_class\n",
        "test_images = os.listdir(test_image_dir)\n",
        "for image_name in test_images:\n",
        "    img_path = os.path.join(test_image_dir, image_name)\n",
        "    for model, name in zip(models, model_names):\n",
        "        predicted_class = predict_classes(model, name, img_path)\n",
        "        print(f'{name} predicts {class_names[predicted_class]} for image {image_name}')"
      ],
      "metadata": {
        "colab": {
          "base_uri": "https://localhost:8080/"
        },
        "id": "0VVC9ZqMs0wS",
        "outputId": "669daefa-b87b-479a-8d5e-b76a8e440b17"
      },
      "execution_count": null,
      "outputs": [
        {
          "output_type": "stream",
          "name": "stdout",
          "text": [
            "1/1 [==============================] - 0s 39ms/step\n",
            "InceptionV3 predicts Normal for image FIG24.png\n",
            "1/1 [==============================] - 0s 34ms/step\n",
            "ResNet50 predicts OscTrans for image FIG24.png\n",
            "1/1 [==============================] - 0s 59ms/step\n",
            "DenseNet201 predicts Normal for image FIG24.png\n",
            "1/1 [==============================] - 0s 41ms/step\n",
            "InceptionV3 predicts Normal for image FIG180.png\n",
            "1/1 [==============================] - 0s 35ms/step\n",
            "ResNet50 predicts OscTrans for image FIG180.png\n",
            "1/1 [==============================] - 0s 55ms/step\n",
            "DenseNet201 predicts Normal for image FIG180.png\n",
            "1/1 [==============================] - 0s 39ms/step\n",
            "InceptionV3 predicts Normal for image FIG146.png\n",
            "1/1 [==============================] - 0s 37ms/step\n",
            "ResNet50 predicts OscTrans for image FIG146.png\n",
            "1/1 [==============================] - 0s 51ms/step\n",
            "DenseNet201 predicts Normal for image FIG146.png\n",
            "1/1 [==============================] - 0s 38ms/step\n",
            "InceptionV3 predicts Normal for image FIG197.png\n",
            "1/1 [==============================] - 0s 37ms/step\n",
            "ResNet50 predicts OscTrans for image FIG197.png\n",
            "1/1 [==============================] - 0s 63ms/step\n",
            "DenseNet201 predicts Normal for image FIG197.png\n",
            "1/1 [==============================] - 0s 40ms/step\n",
            "InceptionV3 predicts Normal for image FIG41.png\n",
            "1/1 [==============================] - 0s 41ms/step\n",
            "ResNet50 predicts OscTrans for image FIG41.png\n",
            "1/1 [==============================] - 0s 62ms/step\n",
            "DenseNet201 predicts Normal for image FIG41.png\n",
            "1/1 [==============================] - 0s 43ms/step\n",
            "InceptionV3 predicts Normal for image FIG182.png\n",
            "1/1 [==============================] - 0s 38ms/step\n",
            "ResNet50 predicts OscTrans for image FIG182.png\n",
            "1/1 [==============================] - 0s 74ms/step\n",
            "DenseNet201 predicts Normal for image FIG182.png\n",
            "1/1 [==============================] - 0s 43ms/step\n",
            "InceptionV3 predicts Normal for image FIG61.png\n",
            "1/1 [==============================] - 0s 34ms/step\n",
            "ResNet50 predicts OscTrans for image FIG61.png\n",
            "1/1 [==============================] - 0s 41ms/step\n",
            "DenseNet201 predicts Normal for image FIG61.png\n",
            "1/1 [==============================] - 0s 30ms/step\n",
            "InceptionV3 predicts Normal for image FIG176.png\n",
            "1/1 [==============================] - 0s 25ms/step\n",
            "ResNet50 predicts OscTrans for image FIG176.png\n",
            "1/1 [==============================] - 0s 38ms/step\n",
            "DenseNet201 predicts Normal for image FIG176.png\n",
            "1/1 [==============================] - 0s 27ms/step\n",
            "InceptionV3 predicts Flicker for image FIG126.png\n",
            "1/1 [==============================] - 0s 26ms/step\n",
            "ResNet50 predicts OscTrans for image FIG126.png\n",
            "1/1 [==============================] - 0s 37ms/step\n",
            "DenseNet201 predicts Flicker for image FIG126.png\n",
            "1/1 [==============================] - 0s 28ms/step\n",
            "InceptionV3 predicts Normal for image FIG191.png\n",
            "1/1 [==============================] - 0s 24ms/step\n",
            "ResNet50 predicts OscTrans for image FIG191.png\n",
            "1/1 [==============================] - 0s 38ms/step\n",
            "DenseNet201 predicts Normal for image FIG191.png\n",
            "1/1 [==============================] - 0s 28ms/step\n",
            "InceptionV3 predicts Normal for image FIG73.png\n",
            "1/1 [==============================] - 0s 25ms/step\n",
            "ResNet50 predicts OscTrans for image FIG73.png\n",
            "1/1 [==============================] - 0s 41ms/step\n",
            "DenseNet201 predicts Normal for image FIG73.png\n",
            "1/1 [==============================] - 0s 28ms/step\n",
            "InceptionV3 predicts Normal for image FIG188.png\n",
            "1/1 [==============================] - 0s 25ms/step\n",
            "ResNet50 predicts OscTrans for image FIG188.png\n",
            "1/1 [==============================] - 0s 36ms/step\n",
            "DenseNet201 predicts Normal for image FIG188.png\n",
            "1/1 [==============================] - 0s 33ms/step\n",
            "InceptionV3 predicts Normal for image FIG70.png\n",
            "1/1 [==============================] - 0s 23ms/step\n",
            "ResNet50 predicts OscTrans for image FIG70.png\n",
            "1/1 [==============================] - 0s 37ms/step\n",
            "DenseNet201 predicts Normal for image FIG70.png\n",
            "1/1 [==============================] - 0s 27ms/step\n",
            "InceptionV3 predicts Normal for image FIG68.png\n",
            "1/1 [==============================] - 0s 28ms/step\n",
            "ResNet50 predicts OscTrans for image FIG68.png\n",
            "1/1 [==============================] - 0s 39ms/step\n",
            "DenseNet201 predicts Normal for image FIG68.png\n",
            "1/1 [==============================] - 0s 32ms/step\n",
            "InceptionV3 predicts Normal for image FIG35.png\n",
            "1/1 [==============================] - 0s 23ms/step\n",
            "ResNet50 predicts OscTrans for image FIG35.png\n",
            "1/1 [==============================] - 0s 43ms/step\n",
            "DenseNet201 predicts Normal for image FIG35.png\n",
            "1/1 [==============================] - 0s 28ms/step\n",
            "InceptionV3 predicts Normal for image FIG8.png\n",
            "1/1 [==============================] - 0s 25ms/step\n",
            "ResNet50 predicts OscTrans for image FIG8.png\n",
            "1/1 [==============================] - 0s 37ms/step\n",
            "DenseNet201 predicts Normal for image FIG8.png\n",
            "1/1 [==============================] - 0s 26ms/step\n",
            "InceptionV3 predicts Normal for image FIG17.png\n",
            "1/1 [==============================] - 0s 24ms/step\n",
            "ResNet50 predicts OscTrans for image FIG17.png\n",
            "1/1 [==============================] - 0s 40ms/step\n",
            "DenseNet201 predicts Normal for image FIG17.png\n",
            "1/1 [==============================] - 0s 32ms/step\n",
            "InceptionV3 predicts Normal for image FIG75.png\n",
            "1/1 [==============================] - 0s 23ms/step\n",
            "ResNet50 predicts OscTrans for image FIG75.png\n",
            "1/1 [==============================] - 0s 37ms/step\n",
            "DenseNet201 predicts Normal for image FIG75.png\n",
            "1/1 [==============================] - 0s 29ms/step\n",
            "InceptionV3 predicts Normal for image FIG102.png\n",
            "1/1 [==============================] - 0s 26ms/step\n",
            "ResNet50 predicts OscTrans for image FIG102.png\n",
            "1/1 [==============================] - 0s 52ms/step\n",
            "DenseNet201 predicts Normal for image FIG102.png\n",
            "1/1 [==============================] - 0s 31ms/step\n",
            "InceptionV3 predicts Normal for image FIG183.png\n",
            "1/1 [==============================] - 0s 24ms/step\n",
            "ResNet50 predicts OscTrans for image FIG183.png\n",
            "1/1 [==============================] - 0s 42ms/step\n",
            "DenseNet201 predicts Normal for image FIG183.png\n",
            "1/1 [==============================] - 0s 27ms/step\n",
            "InceptionV3 predicts Normal for image FIG138.png\n",
            "1/1 [==============================] - 0s 23ms/step\n",
            "ResNet50 predicts OscTrans for image FIG138.png\n",
            "1/1 [==============================] - 0s 47ms/step\n",
            "DenseNet201 predicts Normal for image FIG138.png\n",
            "1/1 [==============================] - 0s 28ms/step\n",
            "InceptionV3 predicts Normal for image FIG82.png\n",
            "1/1 [==============================] - 0s 26ms/step\n",
            "ResNet50 predicts OscTrans for image FIG82.png\n",
            "1/1 [==============================] - 0s 46ms/step\n",
            "DenseNet201 predicts Normal for image FIG82.png\n",
            "1/1 [==============================] - 0s 30ms/step\n",
            "InceptionV3 predicts Normal for image FIG171.png\n",
            "1/1 [==============================] - 0s 24ms/step\n",
            "ResNet50 predicts OscTrans for image FIG171.png\n",
            "1/1 [==============================] - 0s 39ms/step\n",
            "DenseNet201 predicts Normal for image FIG171.png\n",
            "1/1 [==============================] - 0s 27ms/step\n",
            "InceptionV3 predicts Normal for image FIG19.png\n",
            "1/1 [==============================] - 0s 25ms/step\n",
            "ResNet50 predicts OscTrans for image FIG19.png\n",
            "1/1 [==============================] - 0s 40ms/step\n",
            "DenseNet201 predicts Normal for image FIG19.png\n",
            "1/1 [==============================] - 0s 30ms/step\n",
            "InceptionV3 predicts Normal for image FIG192.png\n",
            "1/1 [==============================] - 0s 26ms/step\n",
            "ResNet50 predicts OscTrans for image FIG192.png\n",
            "1/1 [==============================] - 0s 38ms/step\n",
            "DenseNet201 predicts Normal for image FIG192.png\n",
            "1/1 [==============================] - 0s 30ms/step\n",
            "InceptionV3 predicts Normal for image FIG50.png\n",
            "1/1 [==============================] - 0s 23ms/step\n",
            "ResNet50 predicts OscTrans for image FIG50.png\n",
            "1/1 [==============================] - 0s 36ms/step\n",
            "DenseNet201 predicts Normal for image FIG50.png\n",
            "1/1 [==============================] - 0s 27ms/step\n",
            "InceptionV3 predicts Normal for image FIG156.png\n",
            "1/1 [==============================] - 0s 26ms/step\n",
            "ResNet50 predicts OscTrans for image FIG156.png\n",
            "1/1 [==============================] - 0s 39ms/step\n",
            "DenseNet201 predicts Normal for image FIG156.png\n",
            "1/1 [==============================] - 0s 29ms/step\n",
            "InceptionV3 predicts Normal for image FIG71.png\n",
            "1/1 [==============================] - 0s 26ms/step\n",
            "ResNet50 predicts OscTrans for image FIG71.png\n",
            "1/1 [==============================] - 0s 37ms/step\n",
            "DenseNet201 predicts Normal for image FIG71.png\n",
            "1/1 [==============================] - 0s 40ms/step\n",
            "InceptionV3 predicts Normal for image FIG9.png\n",
            "1/1 [==============================] - 0s 29ms/step\n",
            "ResNet50 predicts OscTrans for image FIG9.png\n",
            "1/1 [==============================] - 0s 46ms/step\n",
            "DenseNet201 predicts Normal for image FIG9.png\n",
            "1/1 [==============================] - 0s 31ms/step\n",
            "InceptionV3 predicts Normal for image FIG137.png\n",
            "1/1 [==============================] - 0s 26ms/step\n",
            "ResNet50 predicts OscTrans for image FIG137.png\n",
            "1/1 [==============================] - 0s 42ms/step\n",
            "DenseNet201 predicts Normal for image FIG137.png\n",
            "1/1 [==============================] - 0s 31ms/step\n",
            "InceptionV3 predicts Normal for image FIG170.png\n",
            "1/1 [==============================] - 0s 27ms/step\n",
            "ResNet50 predicts OscTrans for image FIG170.png\n",
            "1/1 [==============================] - 0s 43ms/step\n",
            "DenseNet201 predicts Normal for image FIG170.png\n",
            "1/1 [==============================] - 0s 40ms/step\n",
            "InceptionV3 predicts Normal for image FIG88.png\n",
            "1/1 [==============================] - 0s 24ms/step\n",
            "ResNet50 predicts OscTrans for image FIG88.png\n",
            "1/1 [==============================] - 0s 43ms/step\n",
            "DenseNet201 predicts Normal for image FIG88.png\n",
            "1/1 [==============================] - 0s 27ms/step\n",
            "InceptionV3 predicts Normal for image FIG18.png\n",
            "1/1 [==============================] - 0s 34ms/step\n",
            "ResNet50 predicts OscTrans for image FIG18.png\n",
            "1/1 [==============================] - 0s 39ms/step\n",
            "DenseNet201 predicts Normal for image FIG18.png\n",
            "1/1 [==============================] - 0s 26ms/step\n",
            "InceptionV3 predicts Normal for image FIG65.png\n",
            "1/1 [==============================] - 0s 24ms/step\n",
            "ResNet50 predicts OscTrans for image FIG65.png\n",
            "1/1 [==============================] - 0s 37ms/step\n",
            "DenseNet201 predicts Normal for image FIG65.png\n",
            "1/1 [==============================] - 0s 27ms/step\n",
            "InceptionV3 predicts Normal for image FIG56.png\n",
            "1/1 [==============================] - 0s 24ms/step\n",
            "ResNet50 predicts OscTrans for image FIG56.png\n",
            "1/1 [==============================] - 0s 42ms/step\n",
            "DenseNet201 predicts Normal for image FIG56.png\n",
            "1/1 [==============================] - 0s 27ms/step\n",
            "InceptionV3 predicts Normal for image FIG113.png\n",
            "1/1 [==============================] - 0s 28ms/step\n",
            "ResNet50 predicts OscTrans for image FIG113.png\n",
            "1/1 [==============================] - 0s 37ms/step\n",
            "DenseNet201 predicts Normal for image FIG113.png\n",
            "1/1 [==============================] - 0s 27ms/step\n",
            "InceptionV3 predicts Normal for image FIG58.png\n",
            "1/1 [==============================] - 0s 37ms/step\n",
            "ResNet50 predicts OscTrans for image FIG58.png\n",
            "1/1 [==============================] - 0s 61ms/step\n",
            "DenseNet201 predicts Normal for image FIG58.png\n",
            "1/1 [==============================] - 0s 42ms/step\n",
            "InceptionV3 predicts Normal for image FIG123.png\n",
            "1/1 [==============================] - 0s 35ms/step\n",
            "ResNet50 predicts OscTrans for image FIG123.png\n",
            "1/1 [==============================] - 0s 53ms/step\n",
            "DenseNet201 predicts Normal for image FIG123.png\n",
            "1/1 [==============================] - 0s 40ms/step\n",
            "InceptionV3 predicts Normal for image FIG53.png\n",
            "1/1 [==============================] - 0s 34ms/step\n",
            "ResNet50 predicts OscTrans for image FIG53.png\n",
            "1/1 [==============================] - 0s 57ms/step\n",
            "DenseNet201 predicts Normal for image FIG53.png\n",
            "1/1 [==============================] - 0s 44ms/step\n",
            "InceptionV3 predicts Normal for image FIG96.png\n",
            "1/1 [==============================] - 0s 46ms/step\n",
            "ResNet50 predicts OscTrans for image FIG96.png\n",
            "1/1 [==============================] - 0s 62ms/step\n",
            "DenseNet201 predicts Normal for image FIG96.png\n"
          ]
        }
      ]
    },
    {
      "cell_type": "code",
      "source": [
        "def log_model_evaluation(model_name, loss, accuracy):\n",
        "    event = \"Model Evaluation\"\n",
        "    details = {\n",
        "        \"model_name\": model_name,\n",
        "        \"loss\": loss,\n",
        "        \"accuracy\": accuracy,\n",
        "        \"description\": f\"{model_name} evaluated with loss {loss} and accuracy {accuracy}.\"\n",
        "    }\n",
        "    log_to_blockchain(event, json.dumps(details))\n",
        "for model, name in zip(models, model_names):\n",
        "    print(f'Evaluating {name}...')\n",
        "    loss, accuracy = model.evaluate(test_set, verbose=1)\n",
        "    print(f'{name} Test Accuracy: {accuracy}')\n",
        "    log_model_evaluation(name, loss, accuracy)\n",
        "print(\"Model evaluations completed and logged to the blockchain.\")"
      ],
      "metadata": {
        "colab": {
          "base_uri": "https://localhost:8080/"
        },
        "id": "mWNXC3ZqpADC",
        "outputId": "587a3a8b-7b29-4bf5-d678-390329e655bf"
      },
      "execution_count": null,
      "outputs": [
        {
          "output_type": "stream",
          "name": "stdout",
          "text": [
            "Evaluating InceptionV3...\n",
            "12/12 [==============================] - 5s 445ms/step - loss: 0.7562 - accuracy: 0.8830\n",
            "InceptionV3 Test Accuracy: 0.8830083608627319\n",
            "Evaluating ResNet50...\n",
            "12/12 [==============================] - 6s 537ms/step - loss: 5.3628 - accuracy: 0.1114\n",
            "ResNet50 Test Accuracy: 0.11142061650753021\n",
            "Evaluating DenseNet201...\n",
            "12/12 [==============================] - 6s 475ms/step - loss: 0.0851 - accuracy: 0.9861\n",
            "DenseNet201 Test Accuracy: 0.9860724210739136\n"
          ]
        }
      ]
    }
  ]
}